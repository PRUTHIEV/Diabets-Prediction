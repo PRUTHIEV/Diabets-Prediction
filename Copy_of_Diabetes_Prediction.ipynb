{
  "nbformat": 4,
  "nbformat_minor": 0,
  "metadata": {
    "colab": {
      "name": "Copy of Diabetes_Prediction.ipynb",
      "provenance": [],
      "authorship_tag": "ABX9TyM+sNfJGqnqJTbm8RGTQQee",
      "include_colab_link": true
    },
    "kernelspec": {
      "name": "python3",
      "display_name": "Python 3"
    },
    "language_info": {
      "name": "python"
    }
  },
  "cells": [
    {
      "cell_type": "markdown",
      "metadata": {
        "id": "view-in-github",
        "colab_type": "text"
      },
      "source": [
        "<a href=\"https://colab.research.google.com/github/SummerProjectTEAM-10/sample/blob/SRUTHI/Copy_of_Diabetes_Prediction.ipynb\" target=\"_parent\"><img src=\"https://colab.research.google.com/assets/colab-badge.svg\" alt=\"Open In Colab\"/></a>"
      ]
    },
    {
      "cell_type": "markdown",
      "metadata": {
        "id": "JLLRsvH6vqGn"
      },
      "source": [
        "### **IMPORTING LIBRARIES**"
      ]
    },
    {
      "cell_type": "code",
      "metadata": {
        "id": "DS9t5wY3vowT"
      },
      "source": [
        "import numpy as np\n",
        "import pandas as pd\n",
        "import seaborn as sns\n",
        "import matplotlib.pyplot as plt\n",
        "%matplotlib inline\n",
        "import warnings\n",
        "warnings.filterwarnings(\"ignore\")"
      ],
      "execution_count": null,
      "outputs": []
    },
    {
      "cell_type": "markdown",
      "metadata": {
        "id": "w6gJDAn-v3BM"
      },
      "source": [
        "### **LOADING DATASET**"
      ]
    },
    {
      "cell_type": "code",
      "metadata": {
        "id": "Y-0rtyzbv1Lf"
      },
      "source": [
        "Diabetes_dataset=pd.read_csv('/content/pima-indians-diabetes.csv')"
      ],
      "execution_count": null,
      "outputs": []
    },
    {
      "cell_type": "markdown",
      "metadata": {
        "id": "V4DmPswrwEOp"
      },
      "source": [
        "### **DESCRIPTIVE STATISTICS**"
      ]
    },
    {
      "cell_type": "code",
      "metadata": {
        "colab": {
          "base_uri": "https://localhost:8080/",
          "height": 141
        },
        "id": "Ka3wekHmwBkc",
        "outputId": "f108a984-32b8-4ae9-c524-5407cafc6bce"
      },
      "source": [
        "Diabetes_dataset.head(3)\n",
        "#Diabetes_dataset.tail(3)"
      ],
      "execution_count": null,
      "outputs": [
        {
          "output_type": "execute_result",
          "data": {
            "text/html": [
              "<div>\n",
              "<style scoped>\n",
              "    .dataframe tbody tr th:only-of-type {\n",
              "        vertical-align: middle;\n",
              "    }\n",
              "\n",
              "    .dataframe tbody tr th {\n",
              "        vertical-align: top;\n",
              "    }\n",
              "\n",
              "    .dataframe thead th {\n",
              "        text-align: right;\n",
              "    }\n",
              "</style>\n",
              "<table border=\"1\" class=\"dataframe\">\n",
              "  <thead>\n",
              "    <tr style=\"text-align: right;\">\n",
              "      <th></th>\n",
              "      <th>Pregnancies</th>\n",
              "      <th>Glucose</th>\n",
              "      <th>BloodPressure</th>\n",
              "      <th>SkinThickness</th>\n",
              "      <th>Insulin</th>\n",
              "      <th>BMI</th>\n",
              "      <th>DiabetesPedigreeFunction</th>\n",
              "      <th>Age</th>\n",
              "      <th>Outcome</th>\n",
              "    </tr>\n",
              "  </thead>\n",
              "  <tbody>\n",
              "    <tr>\n",
              "      <th>0</th>\n",
              "      <td>6</td>\n",
              "      <td>148</td>\n",
              "      <td>72</td>\n",
              "      <td>35</td>\n",
              "      <td>0</td>\n",
              "      <td>33.6</td>\n",
              "      <td>0.627</td>\n",
              "      <td>50</td>\n",
              "      <td>1</td>\n",
              "    </tr>\n",
              "    <tr>\n",
              "      <th>1</th>\n",
              "      <td>1</td>\n",
              "      <td>85</td>\n",
              "      <td>66</td>\n",
              "      <td>29</td>\n",
              "      <td>0</td>\n",
              "      <td>26.6</td>\n",
              "      <td>0.351</td>\n",
              "      <td>31</td>\n",
              "      <td>0</td>\n",
              "    </tr>\n",
              "    <tr>\n",
              "      <th>2</th>\n",
              "      <td>8</td>\n",
              "      <td>183</td>\n",
              "      <td>64</td>\n",
              "      <td>0</td>\n",
              "      <td>0</td>\n",
              "      <td>23.3</td>\n",
              "      <td>0.672</td>\n",
              "      <td>32</td>\n",
              "      <td>1</td>\n",
              "    </tr>\n",
              "  </tbody>\n",
              "</table>\n",
              "</div>"
            ],
            "text/plain": [
              "   Pregnancies  Glucose  BloodPressure  ...  DiabetesPedigreeFunction  Age  Outcome\n",
              "0            6      148             72  ...                     0.627   50        1\n",
              "1            1       85             66  ...                     0.351   31        0\n",
              "2            8      183             64  ...                     0.672   32        1\n",
              "\n",
              "[3 rows x 9 columns]"
            ]
          },
          "metadata": {},
          "execution_count": 33
        }
      ]
    },
    {
      "cell_type": "code",
      "metadata": {
        "colab": {
          "base_uri": "https://localhost:8080/"
        },
        "id": "sdVqL0xSv1P1",
        "outputId": "682a23b4-1d47-4f80-b5b9-6e8a5e167bde"
      },
      "source": [
        "Diabetes_dataset.shape"
      ],
      "execution_count": null,
      "outputs": [
        {
          "output_type": "execute_result",
          "data": {
            "text/plain": [
              "(768, 9)"
            ]
          },
          "metadata": {},
          "execution_count": 34
        }
      ]
    },
    {
      "cell_type": "markdown",
      "metadata": {
        "id": "v12sdohjwPQ6"
      },
      "source": [
        "In our dataset we have 768 rows/records and 9 columns/features"
      ]
    },
    {
      "cell_type": "code",
      "metadata": {
        "colab": {
          "base_uri": "https://localhost:8080/"
        },
        "id": "vLjs5CYCv1TC",
        "outputId": "92046286-5004-4dda-b21d-3b27b1c40e34"
      },
      "source": [
        "Diabetes_dataset.info()"
      ],
      "execution_count": null,
      "outputs": [
        {
          "output_type": "stream",
          "name": "stdout",
          "text": [
            "<class 'pandas.core.frame.DataFrame'>\n",
            "RangeIndex: 768 entries, 0 to 767\n",
            "Data columns (total 9 columns):\n",
            " #   Column                    Non-Null Count  Dtype  \n",
            "---  ------                    --------------  -----  \n",
            " 0   Pregnancies               768 non-null    int64  \n",
            " 1   Glucose                   768 non-null    int64  \n",
            " 2   BloodPressure             768 non-null    int64  \n",
            " 3   SkinThickness             768 non-null    int64  \n",
            " 4   Insulin                   768 non-null    int64  \n",
            " 5   BMI                       768 non-null    float64\n",
            " 6   DiabetesPedigreeFunction  768 non-null    float64\n",
            " 7   Age                       768 non-null    int64  \n",
            " 8   Outcome                   768 non-null    int64  \n",
            "dtypes: float64(2), int64(7)\n",
            "memory usage: 54.1 KB\n"
          ]
        }
      ]
    },
    {
      "cell_type": "code",
      "metadata": {
        "colab": {
          "base_uri": "https://localhost:8080/",
          "height": 294
        },
        "id": "llF8CUeFv1V7",
        "outputId": "2aa6cb5f-4158-47e3-a8fa-33f52a5cd35a"
      },
      "source": [
        "Diabetes_dataset.describe()"
      ],
      "execution_count": null,
      "outputs": [
        {
          "output_type": "execute_result",
          "data": {
            "text/html": [
              "<div>\n",
              "<style scoped>\n",
              "    .dataframe tbody tr th:only-of-type {\n",
              "        vertical-align: middle;\n",
              "    }\n",
              "\n",
              "    .dataframe tbody tr th {\n",
              "        vertical-align: top;\n",
              "    }\n",
              "\n",
              "    .dataframe thead th {\n",
              "        text-align: right;\n",
              "    }\n",
              "</style>\n",
              "<table border=\"1\" class=\"dataframe\">\n",
              "  <thead>\n",
              "    <tr style=\"text-align: right;\">\n",
              "      <th></th>\n",
              "      <th>Pregnancies</th>\n",
              "      <th>Glucose</th>\n",
              "      <th>BloodPressure</th>\n",
              "      <th>SkinThickness</th>\n",
              "      <th>Insulin</th>\n",
              "      <th>BMI</th>\n",
              "      <th>DiabetesPedigreeFunction</th>\n",
              "      <th>Age</th>\n",
              "      <th>Outcome</th>\n",
              "    </tr>\n",
              "  </thead>\n",
              "  <tbody>\n",
              "    <tr>\n",
              "      <th>count</th>\n",
              "      <td>768.000000</td>\n",
              "      <td>768.000000</td>\n",
              "      <td>768.000000</td>\n",
              "      <td>768.000000</td>\n",
              "      <td>768.000000</td>\n",
              "      <td>768.000000</td>\n",
              "      <td>768.000000</td>\n",
              "      <td>768.000000</td>\n",
              "      <td>768.000000</td>\n",
              "    </tr>\n",
              "    <tr>\n",
              "      <th>mean</th>\n",
              "      <td>3.845052</td>\n",
              "      <td>120.894531</td>\n",
              "      <td>69.105469</td>\n",
              "      <td>20.536458</td>\n",
              "      <td>79.799479</td>\n",
              "      <td>31.992578</td>\n",
              "      <td>0.471876</td>\n",
              "      <td>33.240885</td>\n",
              "      <td>0.348958</td>\n",
              "    </tr>\n",
              "    <tr>\n",
              "      <th>std</th>\n",
              "      <td>3.369578</td>\n",
              "      <td>31.972618</td>\n",
              "      <td>19.355807</td>\n",
              "      <td>15.952218</td>\n",
              "      <td>115.244002</td>\n",
              "      <td>7.884160</td>\n",
              "      <td>0.331329</td>\n",
              "      <td>11.760232</td>\n",
              "      <td>0.476951</td>\n",
              "    </tr>\n",
              "    <tr>\n",
              "      <th>min</th>\n",
              "      <td>0.000000</td>\n",
              "      <td>0.000000</td>\n",
              "      <td>0.000000</td>\n",
              "      <td>0.000000</td>\n",
              "      <td>0.000000</td>\n",
              "      <td>0.000000</td>\n",
              "      <td>0.078000</td>\n",
              "      <td>21.000000</td>\n",
              "      <td>0.000000</td>\n",
              "    </tr>\n",
              "    <tr>\n",
              "      <th>25%</th>\n",
              "      <td>1.000000</td>\n",
              "      <td>99.000000</td>\n",
              "      <td>62.000000</td>\n",
              "      <td>0.000000</td>\n",
              "      <td>0.000000</td>\n",
              "      <td>27.300000</td>\n",
              "      <td>0.243750</td>\n",
              "      <td>24.000000</td>\n",
              "      <td>0.000000</td>\n",
              "    </tr>\n",
              "    <tr>\n",
              "      <th>50%</th>\n",
              "      <td>3.000000</td>\n",
              "      <td>117.000000</td>\n",
              "      <td>72.000000</td>\n",
              "      <td>23.000000</td>\n",
              "      <td>30.500000</td>\n",
              "      <td>32.000000</td>\n",
              "      <td>0.372500</td>\n",
              "      <td>29.000000</td>\n",
              "      <td>0.000000</td>\n",
              "    </tr>\n",
              "    <tr>\n",
              "      <th>75%</th>\n",
              "      <td>6.000000</td>\n",
              "      <td>140.250000</td>\n",
              "      <td>80.000000</td>\n",
              "      <td>32.000000</td>\n",
              "      <td>127.250000</td>\n",
              "      <td>36.600000</td>\n",
              "      <td>0.626250</td>\n",
              "      <td>41.000000</td>\n",
              "      <td>1.000000</td>\n",
              "    </tr>\n",
              "    <tr>\n",
              "      <th>max</th>\n",
              "      <td>17.000000</td>\n",
              "      <td>199.000000</td>\n",
              "      <td>122.000000</td>\n",
              "      <td>99.000000</td>\n",
              "      <td>846.000000</td>\n",
              "      <td>67.100000</td>\n",
              "      <td>2.420000</td>\n",
              "      <td>81.000000</td>\n",
              "      <td>1.000000</td>\n",
              "    </tr>\n",
              "  </tbody>\n",
              "</table>\n",
              "</div>"
            ],
            "text/plain": [
              "       Pregnancies     Glucose  ...         Age     Outcome\n",
              "count   768.000000  768.000000  ...  768.000000  768.000000\n",
              "mean      3.845052  120.894531  ...   33.240885    0.348958\n",
              "std       3.369578   31.972618  ...   11.760232    0.476951\n",
              "min       0.000000    0.000000  ...   21.000000    0.000000\n",
              "25%       1.000000   99.000000  ...   24.000000    0.000000\n",
              "50%       3.000000  117.000000  ...   29.000000    0.000000\n",
              "75%       6.000000  140.250000  ...   41.000000    1.000000\n",
              "max      17.000000  199.000000  ...   81.000000    1.000000\n",
              "\n",
              "[8 rows x 9 columns]"
            ]
          },
          "metadata": {},
          "execution_count": 36
        }
      ]
    },
    {
      "cell_type": "markdown",
      "metadata": {
        "id": "nRfCUusKwaWo"
      },
      "source": [
        "From the above summary we can see some features have zero as minimum value.\n",
        "For features like Glucose, BloodPressure, SkinThickness, Insulin, BMI we cannot have zero in real time. So it represents missing data."
      ]
    },
    {
      "cell_type": "markdown",
      "metadata": {
        "id": "PNYzRNW8weip"
      },
      "source": [
        "### **CORRELATION MATRIX**"
      ]
    },
    {
      "cell_type": "markdown",
      "metadata": {
        "id": "kytJDn-1weo-"
      },
      "source": [
        "Correlation describes the strength and direction of the linear association between two quantitative variables.\n",
        "It ranges from -1 to +1, Positive value indicate positive association and negative value indicate negative association."
      ]
    },
    {
      "cell_type": "code",
      "metadata": {
        "colab": {
          "base_uri": "https://localhost:8080/",
          "height": 324
        },
        "id": "1c5WcYFpv1ZS",
        "outputId": "690f3beb-d74a-40e1-c5b9-0f7609193867"
      },
      "source": [
        "Diabetes_dataset.corr()"
      ],
      "execution_count": null,
      "outputs": [
        {
          "output_type": "execute_result",
          "data": {
            "text/html": [
              "<div>\n",
              "<style scoped>\n",
              "    .dataframe tbody tr th:only-of-type {\n",
              "        vertical-align: middle;\n",
              "    }\n",
              "\n",
              "    .dataframe tbody tr th {\n",
              "        vertical-align: top;\n",
              "    }\n",
              "\n",
              "    .dataframe thead th {\n",
              "        text-align: right;\n",
              "    }\n",
              "</style>\n",
              "<table border=\"1\" class=\"dataframe\">\n",
              "  <thead>\n",
              "    <tr style=\"text-align: right;\">\n",
              "      <th></th>\n",
              "      <th>Pregnancies</th>\n",
              "      <th>Glucose</th>\n",
              "      <th>BloodPressure</th>\n",
              "      <th>SkinThickness</th>\n",
              "      <th>Insulin</th>\n",
              "      <th>BMI</th>\n",
              "      <th>DiabetesPedigreeFunction</th>\n",
              "      <th>Age</th>\n",
              "      <th>Outcome</th>\n",
              "    </tr>\n",
              "  </thead>\n",
              "  <tbody>\n",
              "    <tr>\n",
              "      <th>Pregnancies</th>\n",
              "      <td>1.000000</td>\n",
              "      <td>0.129459</td>\n",
              "      <td>0.141282</td>\n",
              "      <td>-0.081672</td>\n",
              "      <td>-0.073535</td>\n",
              "      <td>0.017683</td>\n",
              "      <td>-0.033523</td>\n",
              "      <td>0.544341</td>\n",
              "      <td>0.221898</td>\n",
              "    </tr>\n",
              "    <tr>\n",
              "      <th>Glucose</th>\n",
              "      <td>0.129459</td>\n",
              "      <td>1.000000</td>\n",
              "      <td>0.152590</td>\n",
              "      <td>0.057328</td>\n",
              "      <td>0.331357</td>\n",
              "      <td>0.221071</td>\n",
              "      <td>0.137337</td>\n",
              "      <td>0.263514</td>\n",
              "      <td>0.466581</td>\n",
              "    </tr>\n",
              "    <tr>\n",
              "      <th>BloodPressure</th>\n",
              "      <td>0.141282</td>\n",
              "      <td>0.152590</td>\n",
              "      <td>1.000000</td>\n",
              "      <td>0.207371</td>\n",
              "      <td>0.088933</td>\n",
              "      <td>0.281805</td>\n",
              "      <td>0.041265</td>\n",
              "      <td>0.239528</td>\n",
              "      <td>0.065068</td>\n",
              "    </tr>\n",
              "    <tr>\n",
              "      <th>SkinThickness</th>\n",
              "      <td>-0.081672</td>\n",
              "      <td>0.057328</td>\n",
              "      <td>0.207371</td>\n",
              "      <td>1.000000</td>\n",
              "      <td>0.436783</td>\n",
              "      <td>0.392573</td>\n",
              "      <td>0.183928</td>\n",
              "      <td>-0.113970</td>\n",
              "      <td>0.074752</td>\n",
              "    </tr>\n",
              "    <tr>\n",
              "      <th>Insulin</th>\n",
              "      <td>-0.073535</td>\n",
              "      <td>0.331357</td>\n",
              "      <td>0.088933</td>\n",
              "      <td>0.436783</td>\n",
              "      <td>1.000000</td>\n",
              "      <td>0.197859</td>\n",
              "      <td>0.185071</td>\n",
              "      <td>-0.042163</td>\n",
              "      <td>0.130548</td>\n",
              "    </tr>\n",
              "    <tr>\n",
              "      <th>BMI</th>\n",
              "      <td>0.017683</td>\n",
              "      <td>0.221071</td>\n",
              "      <td>0.281805</td>\n",
              "      <td>0.392573</td>\n",
              "      <td>0.197859</td>\n",
              "      <td>1.000000</td>\n",
              "      <td>0.140647</td>\n",
              "      <td>0.036242</td>\n",
              "      <td>0.292695</td>\n",
              "    </tr>\n",
              "    <tr>\n",
              "      <th>DiabetesPedigreeFunction</th>\n",
              "      <td>-0.033523</td>\n",
              "      <td>0.137337</td>\n",
              "      <td>0.041265</td>\n",
              "      <td>0.183928</td>\n",
              "      <td>0.185071</td>\n",
              "      <td>0.140647</td>\n",
              "      <td>1.000000</td>\n",
              "      <td>0.033561</td>\n",
              "      <td>0.173844</td>\n",
              "    </tr>\n",
              "    <tr>\n",
              "      <th>Age</th>\n",
              "      <td>0.544341</td>\n",
              "      <td>0.263514</td>\n",
              "      <td>0.239528</td>\n",
              "      <td>-0.113970</td>\n",
              "      <td>-0.042163</td>\n",
              "      <td>0.036242</td>\n",
              "      <td>0.033561</td>\n",
              "      <td>1.000000</td>\n",
              "      <td>0.238356</td>\n",
              "    </tr>\n",
              "    <tr>\n",
              "      <th>Outcome</th>\n",
              "      <td>0.221898</td>\n",
              "      <td>0.466581</td>\n",
              "      <td>0.065068</td>\n",
              "      <td>0.074752</td>\n",
              "      <td>0.130548</td>\n",
              "      <td>0.292695</td>\n",
              "      <td>0.173844</td>\n",
              "      <td>0.238356</td>\n",
              "      <td>1.000000</td>\n",
              "    </tr>\n",
              "  </tbody>\n",
              "</table>\n",
              "</div>"
            ],
            "text/plain": [
              "                          Pregnancies   Glucose  ...       Age   Outcome\n",
              "Pregnancies                  1.000000  0.129459  ...  0.544341  0.221898\n",
              "Glucose                      0.129459  1.000000  ...  0.263514  0.466581\n",
              "BloodPressure                0.141282  0.152590  ...  0.239528  0.065068\n",
              "SkinThickness               -0.081672  0.057328  ... -0.113970  0.074752\n",
              "Insulin                     -0.073535  0.331357  ... -0.042163  0.130548\n",
              "BMI                          0.017683  0.221071  ...  0.036242  0.292695\n",
              "DiabetesPedigreeFunction    -0.033523  0.137337  ...  0.033561  0.173844\n",
              "Age                          0.544341  0.263514  ...  1.000000  0.238356\n",
              "Outcome                      0.221898  0.466581  ...  0.238356  1.000000\n",
              "\n",
              "[9 rows x 9 columns]"
            ]
          },
          "metadata": {},
          "execution_count": 37
        }
      ]
    },
    {
      "cell_type": "markdown",
      "metadata": {
        "id": "T4Jhvmorws8E"
      },
      "source": [
        "From the correlation matrix we found that Glucose, BMI, Age, Pregnancies, DiabetesPedigreeFunction are the top 5 features that are associated to the outcome."
      ]
    },
    {
      "cell_type": "markdown",
      "metadata": {
        "id": "P7GhG8tVwwH8"
      },
      "source": [
        "### **DATA VISUALIZATION**"
      ]
    },
    {
      "cell_type": "code",
      "metadata": {
        "colab": {
          "base_uri": "https://localhost:8080/",
          "height": 332
        },
        "id": "Kpd352_Av1cI",
        "outputId": "43834fb1-9ae2-405b-f1d9-9b6b36f93ea3"
      },
      "source": [
        "sns.countplot(x ='Outcome', data = Diabetes_dataset, palette='Set1_r')\n",
        "plt.show()\n",
        "Diabetes_dataset['Outcome'].value_counts()"
      ],
      "execution_count": null,
      "outputs": [
        {
          "output_type": "display_data",
          "data": {
            "image/png": "[encoded data removed]",
            "text/plain": [
              "<Figure size 432x288 with 1 Axes>"
            ]
          },
          "metadata": {
            "needs_background": "light"
          }
        },
        {
          "output_type": "execute_result",
          "data": {
            "text/plain": [
              "0    500\n",
              "1    268\n",
              "Name: Outcome, dtype: int64"
            ]
          },
          "metadata": {},
          "execution_count": 38
        }
      ]
    },
    {
      "cell_type": "markdown",
      "metadata": {
        "id": "xTC2IkFlw4Cz"
      },
      "source": [
        "From the above count plot visualization we see that the dataset contain 500 non-diabetic patients and 268 diabetic patients."
      ]
    },
    {
      "cell_type": "code",
      "metadata": {
        "colab": {
          "base_uri": "https://localhost:8080/",
          "height": 662
        },
        "id": "cAuhQNuJv1fU",
        "outputId": "1fb5caeb-6387-4fe0-f606-5c1f4de43573"
      },
      "source": [
        "plt.figure(figsize=(9,9))\n",
        "sns.heatmap(np.abs(Diabetes_dataset.corr()), annot=True);"
      ],
      "execution_count": null,
      "outputs": [
        {
          "output_type": "display_data",
          "data": {
            "image/png": "[encoded data removed]",
            "text/plain": [
              "<Figure size 648x648 with 2 Axes>"
            ]
          },
          "metadata": {
            "needs_background": "light"
          }
        }
      ]
    },
    {
      "cell_type": "markdown",
      "metadata": {
        "id": "4h1BMLRmw-pr"
      },
      "source": [
        "### **DATA CLEANING**"
      ]
    },
    {
      "cell_type": "code",
      "metadata": {
        "colab": {
          "base_uri": "https://localhost:8080/"
        },
        "id": "BC-zG_KLv1iJ",
        "outputId": "b02939ec-e8d4-4342-c3fd-d40aab1bde8a"
      },
      "source": [
        "Diabetes_dataset.isnull().sum()"
      ],
      "execution_count": null,
      "outputs": [
        {
          "output_type": "execute_result",
          "data": {
            "text/plain": [
              "Pregnancies                 0\n",
              "Glucose                     0\n",
              "BloodPressure               0\n",
              "SkinThickness               0\n",
              "Insulin                     0\n",
              "BMI                         0\n",
              "DiabetesPedigreeFunction    0\n",
              "Age                         0\n",
              "Outcome                     0\n",
              "dtype: int64"
            ]
          },
          "metadata": {},
          "execution_count": 40
        }
      ]
    },
    {
      "cell_type": "markdown",
      "metadata": {
        "id": "p7QFUQcYxFoR"
      },
      "source": [
        "### **MODEL BUILDING**"
      ]
    },
    {
      "cell_type": "code",
      "metadata": {
        "id": "Hr6rRsy9xFMI"
      },
      "source": [
        "Features_Columns = ['Pregnancies','Glucose','BloodPressure','SkinThickness','Insulin','BMI','DiabetesPedigreeFunction','Age']\n",
        "#Features_Columns = ['Pregnancies','Glucose','BloodPressure','BMI','Age']\n",
        "X = Diabetes_dataset[Features_Columns]  # INDEPENDENT VARIABLES\n",
        "y = Diabetes_dataset[\"Outcome\"]         # DEPENDENT VARIABLE\n"
      ],
      "execution_count": null,
      "outputs": []
    },
    {
      "cell_type": "markdown",
      "metadata": {
        "id": "X_Pi624ixPUz"
      },
      "source": [
        "### **SPLITTING DATASET INTO TRAINING DATA AND TESTING DATA**"
      ]
    },
    {
      "cell_type": "code",
      "metadata": {
        "id": "KWjAKCJZv1oO"
      },
      "source": [
        "from sklearn.model_selection import train_test_split\n",
        "X_train, X_test, y_train, y_test = train_test_split(X, y, test_size=0.30, random_state=1)"
      ],
      "execution_count": null,
      "outputs": []
    },
    {
      "cell_type": "code",
      "metadata": {
        "colab": {
          "base_uri": "https://localhost:8080/"
        },
        "id": "WpQB_jrAxUCb",
        "outputId": "d5199ffa-b70c-416a-ab0c-2e3921d93962"
      },
      "source": [
        "print(\"X_train.shape --> \",X_train.shape)\n",
        "print(\"y_train.shape --> \",y_train.shape)\n",
        "print(\"X_test.shape  --> \",X_test.shape)\n",
        "print(\"y_test.shape  --> \",y_test.shape)"
      ],
      "execution_count": null,
      "outputs": [
        {
          "output_type": "stream",
          "name": "stdout",
          "text": [
            "X_train.shape -->  (537, 8)\n",
            "y_train.shape -->  (537,)\n",
            "X_test.shape  -->  (231, 8)\n",
            "y_test.shape  -->  (231,)\n"
          ]
        }
      ]
    },
    {
      "cell_type": "markdown",
      "metadata": {
        "id": "9_2Xtz6sxYit"
      },
      "source": [
        "### **LOGISTIC REGRESSION**"
      ]
    },
    {
      "cell_type": "code",
      "metadata": {
        "colab": {
          "base_uri": "https://localhost:8080/"
        },
        "id": "rsSWPzhLxUGs",
        "outputId": "7a528f79-20af-4fde-c07a-a7fa79aa7706"
      },
      "source": [
        "from sklearn.linear_model import LogisticRegression\n",
        "Logmodel = LogisticRegression()\n",
        "Logmodel.fit(X_train, y_train)"
      ],
      "execution_count": null,
      "outputs": [
        {
          "output_type": "execute_result",
          "data": {
            "text/plain": [
              "LogisticRegression(C=1.0, class_weight=None, dual=False, fit_intercept=True,\n",
              "                   intercept_scaling=1, l1_ratio=None, max_iter=100,\n",
              "                   multi_class='auto', n_jobs=None, penalty='l2',\n",
              "                   random_state=None, solver='lbfgs', tol=0.0001, verbose=0,\n",
              "                   warm_start=False)"
            ]
          },
          "metadata": {},
          "execution_count": 44
        }
      ]
    },
    {
      "cell_type": "code",
      "metadata": {
        "colab": {
          "base_uri": "https://localhost:8080/"
        },
        "id": "hcpp_lPZxULY",
        "outputId": "4c93c1ac-b482-453a-bcaa-ba8af36bd2d8"
      },
      "source": [
        "# Prediction on the test data set\n",
        "y_prediction = Logmodel.predict(X_test)\n",
        "\n",
        "accuracy1 = Logmodel.score(X_train, y_train)\n",
        "print(\"Accuracy of train data = \", accuracy1 * 100, \"%\")\n",
        "\n",
        "accuracy2 = Logmodel.score(X_test, y_test)\n",
        "print(\"Accuracy of test data = \", accuracy2 * 100, \"%\")"
      ],
      "execution_count": null,
      "outputs": [
        {
          "output_type": "stream",
          "name": "stdout",
          "text": [
            "Accuracy of train data =  77.28119180633148 %\n",
            "Accuracy of test data =  78.35497835497836 %\n"
          ]
        }
      ]
    },
    {
      "cell_type": "markdown",
      "metadata": {
        "id": "HDaX_jUCBmug"
      },
      "source": [
        "### **SUPPORT VECTOR MACHINE**"
      ]
    },
    {
      "cell_type": "code",
      "metadata": {
        "colab": {
          "base_uri": "https://localhost:8080/"
        },
        "id": "2q3G5XigBs6p",
        "outputId": "2de5d9a2-07ed-47e4-adb2-02b6e36b3e74"
      },
      "source": [
        "from sklearn.svm import SVC\n",
        "#SvcModel = SVC()\n",
        "SvcModel = SVC(kernel = 'linear', random_state = 42)\n",
        "SvcModel.fit(X_train, y_train)"
      ],
      "execution_count": null,
      "outputs": [
        {
          "output_type": "execute_result",
          "data": {
            "text/plain": [
              "SVC(C=1.0, break_ties=False, cache_size=200, class_weight=None, coef0=0.0,\n",
              "    decision_function_shape='ovr', degree=3, gamma='scale', kernel='linear',\n",
              "    max_iter=-1, probability=False, random_state=42, shrinking=True, tol=0.001,\n",
              "    verbose=False)"
            ]
          },
          "metadata": {},
          "execution_count": 46
        }
      ]
    },
    {
      "cell_type": "code",
      "metadata": {
        "colab": {
          "base_uri": "https://localhost:8080/"
        },
        "id": "c3REBxfgBtOe",
        "outputId": "cbc49b60-dad2-4c6a-ea90-bc32a38594a7"
      },
      "source": [
        "y_prediction_SVC = SvcModel.predict(X_test)\n",
        "\n",
        "accuracy1SVC = SvcModel.score(X_train, y_train)\n",
        "print(\"Accuracy of train data = \", accuracy1SVC * 100, \"%\")\n",
        "\n",
        "accuracy2SVC = SvcModel.score(X_test, y_test)\n",
        "print(\"Accuracy of test data = \", accuracy2 * 100, \"%\")\n"
      ],
      "execution_count": null,
      "outputs": [
        {
          "output_type": "stream",
          "name": "stdout",
          "text": [
            "Accuracy of train data =  78.02607076350093 %\n",
            "Accuracy of test data =  78.35497835497836 %\n"
          ]
        }
      ]
    },
    {
      "cell_type": "markdown",
      "metadata": {
        "id": "Mw-zKFSTx7rL"
      },
      "source": [
        "### **CONFUSION MATRIX**"
      ]
    },
    {
      "cell_type": "code",
      "metadata": {
        "colab": {
          "base_uri": "https://localhost:8080/"
        },
        "id": "uxnrNGTyxUVs",
        "outputId": "4dd4963b-08d3-4b49-a486-1147d3520de6"
      },
      "source": [
        "from sklearn.metrics import confusion_matrix\n",
        "cm = confusion_matrix(y_test, y_prediction)\n",
        "print (\"Confusion Matrix for LOGISTIC REGRESSION: \\n\", cm)"
      ],
      "execution_count": null,
      "outputs": [
        {
          "output_type": "stream",
          "name": "stdout",
          "text": [
            "Confusion Matrix for LOGISTIC REGRESSION: \n",
            " [[132  14]\n",
            " [ 36  49]]\n"
          ]
        }
      ]
    },
    {
      "cell_type": "code",
      "metadata": {
        "id": "VGS4_V3yxUYh",
        "colab": {
          "base_uri": "https://localhost:8080/"
        },
        "outputId": "fe5d4b56-26d1-47a0-afef-7e286b42c27a"
      },
      "source": [
        " cm = confusion_matrix(y_test, y_prediction_SVC)\n",
        "print (\"Confusion Matrix for SVM: \\n\", cm)"
      ],
      "execution_count": null,
      "outputs": [
        {
          "output_type": "stream",
          "name": "stdout",
          "text": [
            "Confusion Matrix for SVM: \n",
            " [[133  13]\n",
            " [ 35  50]]\n"
          ]
        }
      ]
    },
    {
      "cell_type": "markdown",
      "metadata": {
        "id": "geLlWjz_HWk-"
      },
      "source": [
        "### **PRE-PROCESSING**"
      ]
    },
    {
      "cell_type": "code",
      "metadata": {
        "id": "ldKxmrr0v1q8"
      },
      "source": [
        "Diabetes_dataset[['Glucose','BloodPressure','SkinThickness','Insulin','BMI']] = Diabetes_dataset[['Glucose','BloodPressure','SkinThickness','Insulin','BMI']].replace(0,np.NaN)"
      ],
      "execution_count": null,
      "outputs": []
    },
    {
      "cell_type": "code",
      "metadata": {
        "id": "pluLv9-x0cvj"
      },
      "source": [
        "def median_target(var):   \n",
        "    temp = Diabetes_dataset[Diabetes_dataset[var].notnull()]\n",
        "    temp = temp[[var, 'Outcome']].groupby(['Outcome'])[[var]].median().reset_index()\n",
        "    return temp"
      ],
      "execution_count": null,
      "outputs": []
    },
    {
      "cell_type": "code",
      "metadata": {
        "id": "GJivpo830fsC"
      },
      "source": [
        "columns = Diabetes_dataset.columns\n",
        "columns = columns.drop(\"Outcome\")\n",
        "for i in columns:\n",
        "    median_target(i)\n",
        "    Diabetes_dataset.loc[(Diabetes_dataset['Outcome'] == 0 ) & (Diabetes_dataset[i].isnull()), i] = median_target(i)[i][0]\n",
        "    Diabetes_dataset.loc[(Diabetes_dataset['Outcome'] == 1 ) & (Diabetes_dataset[i].isnull()), i] = median_target(i)[i][1]"
      ],
      "execution_count": null,
      "outputs": []
    },
    {
      "cell_type": "markdown",
      "metadata": {
        "id": "8sW3-fy61ZvR"
      },
      "source": [
        "### **LOGISTIC REGRESSION WITH PRE-PROCESSED DATA**"
      ]
    },
    {
      "cell_type": "code",
      "metadata": {
        "colab": {
          "base_uri": "https://localhost:8080/"
        },
        "id": "Zd9iUnaZ0jgJ",
        "outputId": "099ef98c-d8d3-471e-a7cb-442d262262cc"
      },
      "source": [
        "\n",
        "Features_Columns = ['Pregnancies','Glucose','BloodPressure','SkinThickness','Insulin','BMI','DiabetesPedigreeFunction','Age']\n",
        "#Features_Columns = ['Pregnancies','Glucose','BloodPressure','BMI','Age']\n",
        "X = Diabetes_dataset[Features_Columns]  # INDEPENDENT VARIABLES\n",
        "y = Diabetes_dataset[\"Outcome\"]         # DEPENDENT VARIABLE\n",
        "\n",
        "from sklearn.model_selection import train_test_split\n",
        "X_train, X_test, y_train, y_test = train_test_split(X, y, test_size=0.30, random_state=1)\n",
        "\n",
        "from sklearn.linear_model import LogisticRegression\n",
        "Logmodel = LogisticRegression()\n",
        "Logmodel.fit(X_train, y_train)\n",
        "\n",
        "y_prediction = Logmodel.predict(X_test)\n",
        "print(\"PRE-PROCESSED DATA: \")\n",
        "accuracy1 = Logmodel.score(X_train, y_train)\n",
        "print(\"Accuracy of train data = \", accuracy1 * 100, \"%\")\n",
        "\n",
        "accuracy2 = Logmodel.score(X_test, y_test)\n",
        "print(\"Accuracy of test data = \", accuracy2 * 100, \"%\")"
      ],
      "execution_count": null,
      "outputs": [
        {
          "output_type": "stream",
          "name": "stdout",
          "text": [
            "PRE-PROCESSED DATA: \n",
            "Accuracy of train data =  76.90875232774674 %\n",
            "Accuracy of test data =  80.95238095238095 %\n"
          ]
        }
      ]
    },
    {
      "cell_type": "markdown",
      "metadata": {
        "id": "LNrOe9poGZdk"
      },
      "source": [
        "### **SVM WITH PRE-PROCESSED DATA**"
      ]
    },
    {
      "cell_type": "code",
      "metadata": {
        "id": "-nlMnoO300iZ",
        "colab": {
          "base_uri": "https://localhost:8080/"
        },
        "outputId": "1d1c5a23-b7ff-4f61-d8ac-a76bd7fc9691"
      },
      "source": [
        "\n",
        "Features_Columns = ['Pregnancies','Glucose','BloodPressure','SkinThickness','Insulin','BMI','DiabetesPedigreeFunction','Age']\n",
        "#Features_Columns = ['Pregnancies','Glucose','BloodPressure','BMI','Age']\n",
        "X = Diabetes_dataset[Features_Columns]  # INDEPENDENT VARIABLES\n",
        "y = Diabetes_dataset[\"Outcome\"]         # DEPENDENT VARIABLE\n",
        "\n",
        "from sklearn.model_selection import train_test_split\n",
        "X_train, X_test, y_train, y_test = train_test_split(X, y, test_size=0.30, random_state=1)\n",
        "\n",
        "from sklearn.svm import SVC\n",
        "SvcModel = SVC()\n",
        "#SvcModel = SVC(kernel = 'linear', random_state = 42)\n",
        "SvcModel.fit(X_train, y_train)\n",
        "\n",
        "y_prediction_SVC = SvcModel.predict(X_test)\n",
        "print(\"PRE-PROCESSED DATA: \")\n",
        "accuracySVC = SvcModel.score(X_train, y_train)\n",
        "print(\"Accuracy of train data = \", accuracy1SVC * 100, \"%\")\n",
        "\n",
        "accuracy2SVC = SvcModel.score(X_test, y_test)\n",
        "print(\"Accuracy of test data = \", accuracy2 * 100, \"%\")\n",
        "\n",
        "\n",
        "#print (\"Accuracy : \", accuracy_score(y_test, y_prediction_SVC)*100,\"%\")\n"
      ],
      "execution_count": null,
      "outputs": [
        {
          "output_type": "stream",
          "name": "stdout",
          "text": [
            "PRE-PROCESSED DATA: \n",
            "Accuracy of train data =  78.02607076350093 %\n",
            "Accuracy of test data =  80.95238095238095 %\n"
          ]
        }
      ]
    },
    {
      "cell_type": "code",
      "metadata": {
        "id": "3ziT29-eFt88"
      },
      "source": [
        ""
      ],
      "execution_count": null,
      "outputs": []
    },
    {
      "cell_type": "markdown",
      "metadata": {
        "id": "i5KoNb-HHiiQ"
      },
      "source": [
        "### **SELECTING SPECIFIC FEATURE**"
      ]
    },
    {
      "cell_type": "code",
      "metadata": {
        "colab": {
          "base_uri": "https://localhost:8080/"
        },
        "id": "Tcw63BUuxUOz",
        "outputId": "7a593bcc-a563-4308-890b-ab3fd7bd7d1b"
      },
      "source": [
        "#Features_Columns = ['Pregnancies','Glucose','BloodPressure','SkinThickness','Insulin','BMI','DiabetesPedigreeFunction','Age']\n",
        "Features_Columns = ['Pregnancies','Glucose','BloodPressure','BMI','Age']\n",
        "X = Diabetes_dataset[Features_Columns]  # INDEPENDENT VARIABLES\n",
        "y = Diabetes_dataset[\"Outcome\"]         # DEPENDENT VARIABLE\n",
        "\n",
        "from sklearn.model_selection import train_test_split\n",
        "X_train, X_test, y_train, y_test = train_test_split(X, y, test_size=0.30, random_state=1)\n",
        "\n",
        "from sklearn.linear_model import LogisticRegression\n",
        "Logmodel = LogisticRegression()\n",
        "Logmodel.fit(X_train, y_train)\n",
        "\n",
        "y_prediction = Logmodel.predict(X_test)\n",
        "\n",
        "accuracy1 = Logmodel.score(X_train, y_train)\n",
        "print(\"Accuracy of train data = \", accuracy1 * 100, \"%\")\n",
        "\n",
        "accuracy2 = Logmodel.score(X_test, y_test)\n",
        "print(\"Accuracy of test data = \", accuracy2 * 100, \"%\")\n",
        "#from sklearn.metrics import accuracy_score\n",
        "#print (\"Accuracy : \", accuracy_score(y_test, y_prediction)*100,\"%\")"
      ],
      "execution_count": null,
      "outputs": [
        {
          "output_type": "stream",
          "name": "stdout",
          "text": [
            "Accuracy of train data =  75.41899441340783 %\n",
            "Accuracy of test data =  78.78787878787878 %\n"
          ]
        }
      ]
    },
    {
      "cell_type": "code",
      "metadata": {
        "colab": {
          "base_uri": "https://localhost:8080/"
        },
        "id": "ZikaHFc2Gtji",
        "outputId": "1873cc16-14d5-4738-ffd8-c7f0bea2e4ae"
      },
      "source": [
        "\n",
        "#Features_Columns = ['Pregnancies','Glucose','BloodPressure','SkinThickness','Insulin','BMI','DiabetesPedigreeFunction','Age']\n",
        "Features_Columns = ['Pregnancies','Glucose','BloodPressure','BMI','Age']\n",
        "X = Diabetes_dataset[Features_Columns]  # INDEPENDENT VARIABLES\n",
        "y = Diabetes_dataset[\"Outcome\"]         # DEPENDENT VARIABLE\n",
        "\n",
        "from sklearn.model_selection import train_test_split\n",
        "X_train, X_test, y_train, y_test = train_test_split(X, y, test_size=0.30, random_state=1)\n",
        "\n",
        "from sklearn.svm import SVC\n",
        "SvcModel = SVC()\n",
        "#SvcModel = SVC(kernel = 'linear', random_state = 42)\n",
        "SvcModel.fit(X_train, y_train)\n",
        "\n",
        "y_prediction_SVC = SvcModel.predict(X_test)\n",
        "\n",
        "accuracy1SVC = SvcModel.score(X_train, y_train)\n",
        "print(\"Accuracy of train data = \", accuracy1SVC * 100, \"%\")\n",
        "\n",
        "accuracy2SVC = SvcModel.score(X_test, y_test)\n",
        "print(\"Accuracy of test data = \", accuracy2 * 100, \"%\")\n",
        "\n",
        "from sklearn.metrics import accuracy_score\n",
        "print (\"Accuracy : \", accuracy_score(y_test, y_prediction_SVC)*100,\"%\")\n"
      ],
      "execution_count": null,
      "outputs": [
        {
          "output_type": "stream",
          "name": "stdout",
          "text": [
            "Accuracy of train data =  75.97765363128491 %\n",
            "Accuracy of test data =  80.95238095238095 %\n",
            "Accuracy :  79.22077922077922 %\n"
          ]
        }
      ]
    }
  ]
}