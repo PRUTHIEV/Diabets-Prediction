{
  "nbformat": 4,
  "nbformat_minor": 0,
  "metadata": {
    "colab": {
      "name": "RandomizesSearchCV.ipynb",
      "provenance": [],
      "authorship_tag": "ABX9TyMxONInGRf1As6LFYEoUTTJ",
      "include_colab_link": true
    },
    "kernelspec": {
      "name": "python3",
      "display_name": "Python 3"
    },
    "language_info": {
      "name": "python"
    }
  },
  "cells": [
    {
      "cell_type": "markdown",
      "metadata": {
        "id": "view-in-github",
        "colab_type": "text"
      },
      "source": [
        "<a href=\"https://colab.research.google.com/github/SummerProjectTEAM-10/Diabets-Prediction/blob/SRUTHI/RandomizesSearchCV.ipynb\" target=\"_parent\"><img src=\"https://colab.research.google.com/assets/colab-badge.svg\" alt=\"Open In Colab\"/></a>"
      ]
    },
    {
      "cell_type": "code",
      "metadata": {
        "colab": {
          "base_uri": "https://localhost:8080/",
          "height": 143
        },
        "id": "FtCiqoK_K3ZF",
        "outputId": "f1ec1609-c688-4db4-c528-a661a0ddb617"
      },
      "source": [
        "import numpy as np\n",
        "import pandas as pd\n",
        "import seaborn as sns\n",
        "import matplotlib.pyplot as plt\n",
        "%matplotlib inline\n",
        "from scipy import stats\n",
        "\n",
        "\n",
        "from sklearn.preprocessing import LabelEncoder\n",
        "from sklearn.metrics import accuracy_score\n",
        "from sklearn.model_selection import RepeatedStratifiedKFold\n",
        "from sklearn.model_selection import GridSearchCV\n",
        "from sklearn.model_selection import RandomizedSearchCV\n",
        "\n",
        "from sklearn.model_selection import train_test_split\n",
        "from sklearn.linear_model import LogisticRegression\n",
        "from sklearn.svm import SVC\n",
        "from sklearn.tree import DecisionTreeClassifier\n",
        "from sklearn import tree\n",
        "from sklearn.naive_bayes import GaussianNB\n",
        "from sklearn.neighbors import KNeighborsClassifier\n",
        "from sklearn.ensemble import RandomForestClassifier\n",
        "\n",
        "import warnings\n",
        "warnings.filterwarnings(\"ignore\")\n",
        "\n",
        "df=pd.read_csv('/content/pima-indians-diabetes.csv')\n",
        "df.head(3)"
      ],
      "execution_count": 1,
      "outputs": [
        {
          "output_type": "execute_result",
          "data": {
            "text/html": [
              "<div>\n",
              "<style scoped>\n",
              "    .dataframe tbody tr th:only-of-type {\n",
              "        vertical-align: middle;\n",
              "    }\n",
              "\n",
              "    .dataframe tbody tr th {\n",
              "        vertical-align: top;\n",
              "    }\n",
              "\n",
              "    .dataframe thead th {\n",
              "        text-align: right;\n",
              "    }\n",
              "</style>\n",
              "<table border=\"1\" class=\"dataframe\">\n",
              "  <thead>\n",
              "    <tr style=\"text-align: right;\">\n",
              "      <th></th>\n",
              "      <th>Pregnancies</th>\n",
              "      <th>Glucose</th>\n",
              "      <th>BloodPressure</th>\n",
              "      <th>SkinThickness</th>\n",
              "      <th>Insulin</th>\n",
              "      <th>BMI</th>\n",
              "      <th>DiabetesPedigreeFunction</th>\n",
              "      <th>Age</th>\n",
              "      <th>Outcome</th>\n",
              "    </tr>\n",
              "  </thead>\n",
              "  <tbody>\n",
              "    <tr>\n",
              "      <th>0</th>\n",
              "      <td>6</td>\n",
              "      <td>148</td>\n",
              "      <td>72</td>\n",
              "      <td>35</td>\n",
              "      <td>0</td>\n",
              "      <td>33.6</td>\n",
              "      <td>0.627</td>\n",
              "      <td>50</td>\n",
              "      <td>1</td>\n",
              "    </tr>\n",
              "    <tr>\n",
              "      <th>1</th>\n",
              "      <td>1</td>\n",
              "      <td>85</td>\n",
              "      <td>66</td>\n",
              "      <td>29</td>\n",
              "      <td>0</td>\n",
              "      <td>26.6</td>\n",
              "      <td>0.351</td>\n",
              "      <td>31</td>\n",
              "      <td>0</td>\n",
              "    </tr>\n",
              "    <tr>\n",
              "      <th>2</th>\n",
              "      <td>8</td>\n",
              "      <td>183</td>\n",
              "      <td>64</td>\n",
              "      <td>0</td>\n",
              "      <td>0</td>\n",
              "      <td>23.3</td>\n",
              "      <td>0.672</td>\n",
              "      <td>32</td>\n",
              "      <td>1</td>\n",
              "    </tr>\n",
              "  </tbody>\n",
              "</table>\n",
              "</div>"
            ],
            "text/plain": [
              "   Pregnancies  Glucose  BloodPressure  ...  DiabetesPedigreeFunction  Age  Outcome\n",
              "0            6      148             72  ...                     0.627   50        1\n",
              "1            1       85             66  ...                     0.351   31        0\n",
              "2            8      183             64  ...                     0.672   32        1\n",
              "\n",
              "[3 rows x 9 columns]"
            ]
          },
          "metadata": {},
          "execution_count": 1
        }
      ]
    },
    {
      "cell_type": "code",
      "metadata": {
        "colab": {
          "base_uri": "https://localhost:8080/",
          "height": 423
        },
        "id": "lE0PEXswLJGN",
        "outputId": "2943e756-04dd-446f-9fc1-5efaa1796dda"
      },
      "source": [
        "dataset=df\n",
        "df[['Glucose','BloodPressure','SkinThickness','Insulin','BMI']] = df[['Glucose','BloodPressure','SkinThickness','Insulin','BMI']].replace(0,np.NaN)\n",
        "# The missing values ​​will be filled with the median values ​​of each variable.\n",
        "def median_target(var):   \n",
        "    temp = df[df[var].notnull()]\n",
        "    temp = temp[[var, 'Outcome']].groupby(['Outcome'])[[var]].median().reset_index()\n",
        "    return temp\n",
        "# The values to be given for incomplete observations are given the median value of people who are not sick and the median values of people who are sick.\n",
        "columns = df.columns\n",
        "columns = columns.drop(\"Outcome\")\n",
        "for i in columns:\n",
        "    median_target(i)\n",
        "    df.loc[(df['Outcome'] == 0 ) & (df[i].isnull()), i] = median_target(i)[i][0]\n",
        "    df.loc[(df['Outcome'] == 1 ) & (df[i].isnull()), i] = median_target(i)[i][1]\n",
        "\n",
        "\n",
        "z = np.abs(stats.zscore(df))\n",
        "df= df [(z < 3).all(axis = 1)]\n",
        "cleaned_data_df = df\n",
        "df"
      ],
      "execution_count": 2,
      "outputs": [
        {
          "output_type": "execute_result",
          "data": {
            "text/html": [
              "<div>\n",
              "<style scoped>\n",
              "    .dataframe tbody tr th:only-of-type {\n",
              "        vertical-align: middle;\n",
              "    }\n",
              "\n",
              "    .dataframe tbody tr th {\n",
              "        vertical-align: top;\n",
              "    }\n",
              "\n",
              "    .dataframe thead th {\n",
              "        text-align: right;\n",
              "    }\n",
              "</style>\n",
              "<table border=\"1\" class=\"dataframe\">\n",
              "  <thead>\n",
              "    <tr style=\"text-align: right;\">\n",
              "      <th></th>\n",
              "      <th>Pregnancies</th>\n",
              "      <th>Glucose</th>\n",
              "      <th>BloodPressure</th>\n",
              "      <th>SkinThickness</th>\n",
              "      <th>Insulin</th>\n",
              "      <th>BMI</th>\n",
              "      <th>DiabetesPedigreeFunction</th>\n",
              "      <th>Age</th>\n",
              "      <th>Outcome</th>\n",
              "    </tr>\n",
              "  </thead>\n",
              "  <tbody>\n",
              "    <tr>\n",
              "      <th>0</th>\n",
              "      <td>6</td>\n",
              "      <td>148.0</td>\n",
              "      <td>72.0</td>\n",
              "      <td>35.0</td>\n",
              "      <td>169.5</td>\n",
              "      <td>33.6</td>\n",
              "      <td>0.627</td>\n",
              "      <td>50</td>\n",
              "      <td>1</td>\n",
              "    </tr>\n",
              "    <tr>\n",
              "      <th>1</th>\n",
              "      <td>1</td>\n",
              "      <td>85.0</td>\n",
              "      <td>66.0</td>\n",
              "      <td>29.0</td>\n",
              "      <td>102.5</td>\n",
              "      <td>26.6</td>\n",
              "      <td>0.351</td>\n",
              "      <td>31</td>\n",
              "      <td>0</td>\n",
              "    </tr>\n",
              "    <tr>\n",
              "      <th>2</th>\n",
              "      <td>8</td>\n",
              "      <td>183.0</td>\n",
              "      <td>64.0</td>\n",
              "      <td>32.0</td>\n",
              "      <td>169.5</td>\n",
              "      <td>23.3</td>\n",
              "      <td>0.672</td>\n",
              "      <td>32</td>\n",
              "      <td>1</td>\n",
              "    </tr>\n",
              "    <tr>\n",
              "      <th>3</th>\n",
              "      <td>1</td>\n",
              "      <td>89.0</td>\n",
              "      <td>66.0</td>\n",
              "      <td>23.0</td>\n",
              "      <td>94.0</td>\n",
              "      <td>28.1</td>\n",
              "      <td>0.167</td>\n",
              "      <td>21</td>\n",
              "      <td>0</td>\n",
              "    </tr>\n",
              "    <tr>\n",
              "      <th>5</th>\n",
              "      <td>5</td>\n",
              "      <td>116.0</td>\n",
              "      <td>74.0</td>\n",
              "      <td>27.0</td>\n",
              "      <td>102.5</td>\n",
              "      <td>25.6</td>\n",
              "      <td>0.201</td>\n",
              "      <td>30</td>\n",
              "      <td>0</td>\n",
              "    </tr>\n",
              "    <tr>\n",
              "      <th>...</th>\n",
              "      <td>...</td>\n",
              "      <td>...</td>\n",
              "      <td>...</td>\n",
              "      <td>...</td>\n",
              "      <td>...</td>\n",
              "      <td>...</td>\n",
              "      <td>...</td>\n",
              "      <td>...</td>\n",
              "      <td>...</td>\n",
              "    </tr>\n",
              "    <tr>\n",
              "      <th>763</th>\n",
              "      <td>10</td>\n",
              "      <td>101.0</td>\n",
              "      <td>76.0</td>\n",
              "      <td>48.0</td>\n",
              "      <td>180.0</td>\n",
              "      <td>32.9</td>\n",
              "      <td>0.171</td>\n",
              "      <td>63</td>\n",
              "      <td>0</td>\n",
              "    </tr>\n",
              "    <tr>\n",
              "      <th>764</th>\n",
              "      <td>2</td>\n",
              "      <td>122.0</td>\n",
              "      <td>70.0</td>\n",
              "      <td>27.0</td>\n",
              "      <td>102.5</td>\n",
              "      <td>36.8</td>\n",
              "      <td>0.340</td>\n",
              "      <td>27</td>\n",
              "      <td>0</td>\n",
              "    </tr>\n",
              "    <tr>\n",
              "      <th>765</th>\n",
              "      <td>5</td>\n",
              "      <td>121.0</td>\n",
              "      <td>72.0</td>\n",
              "      <td>23.0</td>\n",
              "      <td>112.0</td>\n",
              "      <td>26.2</td>\n",
              "      <td>0.245</td>\n",
              "      <td>30</td>\n",
              "      <td>0</td>\n",
              "    </tr>\n",
              "    <tr>\n",
              "      <th>766</th>\n",
              "      <td>1</td>\n",
              "      <td>126.0</td>\n",
              "      <td>60.0</td>\n",
              "      <td>32.0</td>\n",
              "      <td>169.5</td>\n",
              "      <td>30.1</td>\n",
              "      <td>0.349</td>\n",
              "      <td>47</td>\n",
              "      <td>1</td>\n",
              "    </tr>\n",
              "    <tr>\n",
              "      <th>767</th>\n",
              "      <td>1</td>\n",
              "      <td>93.0</td>\n",
              "      <td>70.0</td>\n",
              "      <td>31.0</td>\n",
              "      <td>102.5</td>\n",
              "      <td>30.4</td>\n",
              "      <td>0.315</td>\n",
              "      <td>23</td>\n",
              "      <td>0</td>\n",
              "    </tr>\n",
              "  </tbody>\n",
              "</table>\n",
              "<p>719 rows × 9 columns</p>\n",
              "</div>"
            ],
            "text/plain": [
              "     Pregnancies  Glucose  ...  Age  Outcome\n",
              "0              6    148.0  ...   50        1\n",
              "1              1     85.0  ...   31        0\n",
              "2              8    183.0  ...   32        1\n",
              "3              1     89.0  ...   21        0\n",
              "5              5    116.0  ...   30        0\n",
              "..           ...      ...  ...  ...      ...\n",
              "763           10    101.0  ...   63        0\n",
              "764            2    122.0  ...   27        0\n",
              "765            5    121.0  ...   30        0\n",
              "766            1    126.0  ...   47        1\n",
              "767            1     93.0  ...   23        0\n",
              "\n",
              "[719 rows x 9 columns]"
            ]
          },
          "metadata": {},
          "execution_count": 2
        }
      ]
    },
    {
      "cell_type": "code",
      "metadata": {
        "colab": {
          "base_uri": "https://localhost:8080/",
          "height": 143
        },
        "id": "QDzXuCSpLNXr",
        "outputId": "2debc556-40c8-4995-850b-bf6f4497dabe"
      },
      "source": [
        "# According to BMI, some ranges are determined and categorical variables are assigned.\n",
        "NewBMI = pd.Series([\"Underweight\", \"Healthy\", \"Overweight\", \"Obesity 1\", \"Obesity 2\", \"Obesity 3\"], dtype = \"category\")\n",
        "df[\"NewBMI\"] = NewBMI\n",
        "df.loc[df[\"BMI\"] < 18.5, \"NewBMI\"] = NewBMI[0]\n",
        "df.loc[(df[\"BMI\"] > 18.5) & (df[\"BMI\"] <= 24.9), \"NewBMI\"] = NewBMI[1]\n",
        "df.loc[(df[\"BMI\"] > 24.9) & (df[\"BMI\"] <= 29.9), \"NewBMI\"] = NewBMI[2]\n",
        "df.loc[(df[\"BMI\"] > 29.9) & (df[\"BMI\"] <= 34.9), \"NewBMI\"] = NewBMI[3]\n",
        "df.loc[(df[\"BMI\"] > 34.9) & (df[\"BMI\"] <= 39.9), \"NewBMI\"] = NewBMI[4]\n",
        "df.loc[df[\"BMI\"] > 39.9 ,\"NewBMI\"] = NewBMI[5]\n",
        "\n",
        "# A categorical variable creation process is performed according to the insulin value.\n",
        "def set_insulin(row):\n",
        "    if row[\"Insulin\"] >= 16 and row[\"Insulin\"] <= 166:\n",
        "        return \"Normal\"\n",
        "    else:\n",
        "        return \"Abnormal\"\n",
        "df = df.assign(NewInsulinScore=df.apply(set_insulin, axis=1))\n",
        "\n",
        "# Some intervals were determined according to the glucose variable and these were assigned categorical variables.\n",
        "NewGlucose = pd.Series([\"Low\", \"Normal\", \"Prediabetes\", \"High\"], dtype = \"category\")\n",
        "df[\"NewGlucose\"] = NewGlucose\n",
        "df.loc[df[\"Glucose\"] <= 70, \"NewGlucose\"] = NewGlucose[0]\n",
        "df.loc[(df[\"Glucose\"] > 70) & (df[\"Glucose\"] <= 99), \"NewGlucose\"] = NewGlucose[1]\n",
        "df.loc[(df[\"Glucose\"] > 99) & (df[\"Glucose\"] <= 126), \"NewGlucose\"] = NewGlucose[2]\n",
        "df.loc[df[\"Glucose\"] > 126 ,\"NewGlucose\"] = NewGlucose[3]\n",
        "\n",
        "df.head(3)"
      ],
      "execution_count": 3,
      "outputs": [
        {
          "output_type": "execute_result",
          "data": {
            "text/html": [
              "<div>\n",
              "<style scoped>\n",
              "    .dataframe tbody tr th:only-of-type {\n",
              "        vertical-align: middle;\n",
              "    }\n",
              "\n",
              "    .dataframe tbody tr th {\n",
              "        vertical-align: top;\n",
              "    }\n",
              "\n",
              "    .dataframe thead th {\n",
              "        text-align: right;\n",
              "    }\n",
              "</style>\n",
              "<table border=\"1\" class=\"dataframe\">\n",
              "  <thead>\n",
              "    <tr style=\"text-align: right;\">\n",
              "      <th></th>\n",
              "      <th>Pregnancies</th>\n",
              "      <th>Glucose</th>\n",
              "      <th>BloodPressure</th>\n",
              "      <th>SkinThickness</th>\n",
              "      <th>Insulin</th>\n",
              "      <th>BMI</th>\n",
              "      <th>DiabetesPedigreeFunction</th>\n",
              "      <th>Age</th>\n",
              "      <th>Outcome</th>\n",
              "      <th>NewBMI</th>\n",
              "      <th>NewInsulinScore</th>\n",
              "      <th>NewGlucose</th>\n",
              "    </tr>\n",
              "  </thead>\n",
              "  <tbody>\n",
              "    <tr>\n",
              "      <th>0</th>\n",
              "      <td>6</td>\n",
              "      <td>148.0</td>\n",
              "      <td>72.0</td>\n",
              "      <td>35.0</td>\n",
              "      <td>169.5</td>\n",
              "      <td>33.6</td>\n",
              "      <td>0.627</td>\n",
              "      <td>50</td>\n",
              "      <td>1</td>\n",
              "      <td>Obesity 1</td>\n",
              "      <td>Abnormal</td>\n",
              "      <td>High</td>\n",
              "    </tr>\n",
              "    <tr>\n",
              "      <th>1</th>\n",
              "      <td>1</td>\n",
              "      <td>85.0</td>\n",
              "      <td>66.0</td>\n",
              "      <td>29.0</td>\n",
              "      <td>102.5</td>\n",
              "      <td>26.6</td>\n",
              "      <td>0.351</td>\n",
              "      <td>31</td>\n",
              "      <td>0</td>\n",
              "      <td>Overweight</td>\n",
              "      <td>Normal</td>\n",
              "      <td>Normal</td>\n",
              "    </tr>\n",
              "    <tr>\n",
              "      <th>2</th>\n",
              "      <td>8</td>\n",
              "      <td>183.0</td>\n",
              "      <td>64.0</td>\n",
              "      <td>32.0</td>\n",
              "      <td>169.5</td>\n",
              "      <td>23.3</td>\n",
              "      <td>0.672</td>\n",
              "      <td>32</td>\n",
              "      <td>1</td>\n",
              "      <td>Healthy</td>\n",
              "      <td>Abnormal</td>\n",
              "      <td>High</td>\n",
              "    </tr>\n",
              "  </tbody>\n",
              "</table>\n",
              "</div>"
            ],
            "text/plain": [
              "   Pregnancies  Glucose  BloodPressure  ...      NewBMI  NewInsulinScore  NewGlucose\n",
              "0            6    148.0           72.0  ...   Obesity 1         Abnormal        High\n",
              "1            1     85.0           66.0  ...  Overweight           Normal      Normal\n",
              "2            8    183.0           64.0  ...     Healthy         Abnormal        High\n",
              "\n",
              "[3 rows x 12 columns]"
            ]
          },
          "metadata": {},
          "execution_count": 3
        }
      ]
    },
    {
      "cell_type": "code",
      "metadata": {
        "colab": {
          "base_uri": "https://localhost:8080/",
          "height": 143
        },
        "id": "SG1mC2TrLPgN",
        "outputId": "e18b88b5-cfcd-4760-e214-dcba8cd484ed"
      },
      "source": [
        "Le=LabelEncoder()\n",
        "df1 = df[[\"Pregnancies\",\t\"Glucose\",\t\"BloodPressure\",\t\"SkinThickness\",\t\"Insulin\",\t\"BMI\",\t\"DiabetesPedigreeFunction\",\t\"Age\",\t\"Outcome\",\t\"NewBMI\",\t\"NewInsulinScore\",\t\"NewGlucose\"]]\n",
        "df1['BMI_Lable'] = Le.fit_transform(df1['NewBMI'])\n",
        "df1['Insulin_Lable'] = Le.fit_transform(df1['NewInsulinScore'])\n",
        "df1['Glucose_Lable'] = Le.fit_transform(df1['NewGlucose'])\n",
        "df1 = df1.drop([\"NewBMI\",\t\"NewInsulinScore\",\t\"NewGlucose\"],axis=1)\n",
        "df1.head(3)"
      ],
      "execution_count": 4,
      "outputs": [
        {
          "output_type": "execute_result",
          "data": {
            "text/html": [
              "<div>\n",
              "<style scoped>\n",
              "    .dataframe tbody tr th:only-of-type {\n",
              "        vertical-align: middle;\n",
              "    }\n",
              "\n",
              "    .dataframe tbody tr th {\n",
              "        vertical-align: top;\n",
              "    }\n",
              "\n",
              "    .dataframe thead th {\n",
              "        text-align: right;\n",
              "    }\n",
              "</style>\n",
              "<table border=\"1\" class=\"dataframe\">\n",
              "  <thead>\n",
              "    <tr style=\"text-align: right;\">\n",
              "      <th></th>\n",
              "      <th>Pregnancies</th>\n",
              "      <th>Glucose</th>\n",
              "      <th>BloodPressure</th>\n",
              "      <th>SkinThickness</th>\n",
              "      <th>Insulin</th>\n",
              "      <th>BMI</th>\n",
              "      <th>DiabetesPedigreeFunction</th>\n",
              "      <th>Age</th>\n",
              "      <th>Outcome</th>\n",
              "      <th>BMI_Lable</th>\n",
              "      <th>Insulin_Lable</th>\n",
              "      <th>Glucose_Lable</th>\n",
              "    </tr>\n",
              "  </thead>\n",
              "  <tbody>\n",
              "    <tr>\n",
              "      <th>0</th>\n",
              "      <td>6</td>\n",
              "      <td>148.0</td>\n",
              "      <td>72.0</td>\n",
              "      <td>35.0</td>\n",
              "      <td>169.5</td>\n",
              "      <td>33.6</td>\n",
              "      <td>0.627</td>\n",
              "      <td>50</td>\n",
              "      <td>1</td>\n",
              "      <td>1</td>\n",
              "      <td>0</td>\n",
              "      <td>0</td>\n",
              "    </tr>\n",
              "    <tr>\n",
              "      <th>1</th>\n",
              "      <td>1</td>\n",
              "      <td>85.0</td>\n",
              "      <td>66.0</td>\n",
              "      <td>29.0</td>\n",
              "      <td>102.5</td>\n",
              "      <td>26.6</td>\n",
              "      <td>0.351</td>\n",
              "      <td>31</td>\n",
              "      <td>0</td>\n",
              "      <td>4</td>\n",
              "      <td>1</td>\n",
              "      <td>2</td>\n",
              "    </tr>\n",
              "    <tr>\n",
              "      <th>2</th>\n",
              "      <td>8</td>\n",
              "      <td>183.0</td>\n",
              "      <td>64.0</td>\n",
              "      <td>32.0</td>\n",
              "      <td>169.5</td>\n",
              "      <td>23.3</td>\n",
              "      <td>0.672</td>\n",
              "      <td>32</td>\n",
              "      <td>1</td>\n",
              "      <td>0</td>\n",
              "      <td>0</td>\n",
              "      <td>0</td>\n",
              "    </tr>\n",
              "  </tbody>\n",
              "</table>\n",
              "</div>"
            ],
            "text/plain": [
              "   Pregnancies  Glucose  BloodPressure  ...  BMI_Lable  Insulin_Lable  Glucose_Lable\n",
              "0            6    148.0           72.0  ...          1              0              0\n",
              "1            1     85.0           66.0  ...          4              1              2\n",
              "2            8    183.0           64.0  ...          0              0              0\n",
              "\n",
              "[3 rows x 12 columns]"
            ]
          },
          "metadata": {},
          "execution_count": 4
        }
      ]
    },
    {
      "cell_type": "code",
      "metadata": {
        "id": "AVWPD_E_LROG"
      },
      "source": [
        "Features_Columns = ['Pregnancies','Glucose','BloodPressure','SkinThickness','Insulin','BMI','DiabetesPedigreeFunction','Age','BMI_Lable','Insulin_Lable','Glucose_Lable']\n",
        "#Features_Columns = ['Pregnancies','Glucose','Insulin','BMI','DiabetesPedigreeFunction','Age','BMI_Lable','Insulin_Lable','Glucose_Lable']\n",
        "X = df1[Features_Columns]  # INDEPENDENT VARIABLES\n",
        "y = df1[\"Outcome\"]         # DEPENDENT VARIABLE\n",
        "X_train, X_test, y_train, y_test = train_test_split(X, y, test_size=0.30, random_state=1)\n",
        "\n"
      ],
      "execution_count": 5,
      "outputs": []
    },
    {
      "cell_type": "markdown",
      "metadata": {
        "id": "xLTa1-WCIGdK"
      },
      "source": [
        "### **LOGISTIC REGRESSION**"
      ]
    },
    {
      "cell_type": "code",
      "metadata": {
        "colab": {
          "base_uri": "https://localhost:8080/"
        },
        "id": "AD96DMzMuUll",
        "outputId": "b71c88f8-ee05-457e-b9ac-6a90bf0eb94c"
      },
      "source": [
        "Logmodel = LogisticRegression()\n",
        "Logmodel.fit(X_train, y_train)\n",
        "y_prediction = Logmodel.predict(X_test)\n",
        "\n",
        "accuracy1_LR = Logmodel.score(X_train, y_train)\n",
        "print(\"Accuracy of train data = \", accuracy1_LR * 100, \"%\")\n",
        "accuracy2_LR = Logmodel.score(X_test, y_test)\n",
        "print(\"Accuracy of test data = \", accuracy2_LR * 100, \"%\")"
      ],
      "execution_count": 6,
      "outputs": [
        {
          "output_type": "stream",
          "name": "stdout",
          "text": [
            "Accuracy of train data =  85.48707753479125 %\n",
            "Accuracy of test data =  87.03703703703704 %\n"
          ]
        }
      ]
    },
    {
      "cell_type": "code",
      "metadata": {
        "colab": {
          "base_uri": "https://localhost:8080/"
        },
        "id": "6jdO3HNjQrNy",
        "outputId": "bc01cb87-851a-43a4-fd82-80dd796ecf54"
      },
      "source": [
        "param_grid_LR = {\n",
        "    'solver' : ['newton-cg', 'lbfgs', 'liblinear','sag','saga'],\n",
        "    'penalty' : ['l1', 'l2', 'elasticnet'],\n",
        "    'C' : [100, 10, 1.0, 0.1, 0.01]\n",
        "}\n",
        "grid_LR = RandomizedSearchCV(LogisticRegression(),param_grid_LR, scoring='accuracy', n_jobs=-1, cv=5).fit(X_train,y_train)\n",
        "print('Best Score: %s' % grid_LR.best_score_)\n",
        "print('Best Hyperparameters: %s' % grid_LR.best_params_)\n",
        "\n"
      ],
      "execution_count": 7,
      "outputs": [
        {
          "output_type": "stream",
          "name": "stdout",
          "text": [
            "Best Score: 0.7097425742574257\n",
            "Best Hyperparameters: {'solver': 'saga', 'penalty': 'l2', 'C': 100}\n"
          ]
        }
      ]
    },
    {
      "cell_type": "code",
      "metadata": {
        "colab": {
          "base_uri": "https://localhost:8080/"
        },
        "id": "UjKpWnTGSgeG",
        "outputId": "828c6c9b-3052-4013-fc42-a708b618a929"
      },
      "source": [
        "Tuned_LR_model = LogisticRegression(**grid_LR.best_params_).fit(X_train, y_train)\n",
        "Tuned_LR_y_prediction = Tuned_LR_model.predict(X_test)\n",
        "\n",
        "\n",
        "HP_accuracy1_LR = Tuned_LR_model.score(X_train, y_train)\n",
        "print(\"Accuracy of train data = \", HP_accuracy1_LR * 100, \"%\")\n",
        "HP_accuracy2_LR = Tuned_LR_model.score(X_test, y_test)\n",
        "print(\"Accuracy of test data = \", HP_accuracy2_LR * 100, \"%\")\n"
      ],
      "execution_count": 9,
      "outputs": [
        {
          "output_type": "stream",
          "name": "stdout",
          "text": [
            "Accuracy of train data =  85.48707753479125 %\n",
            "Accuracy of test data =  86.11111111111111 %\n"
          ]
        }
      ]
    },
    {
      "cell_type": "markdown",
      "metadata": {
        "id": "SLgHh8cO2CyM"
      },
      "source": [
        "### **SVM**"
      ]
    },
    {
      "cell_type": "code",
      "metadata": {
        "colab": {
          "base_uri": "https://localhost:8080/"
        },
        "id": "7xgLgriI2F1A",
        "outputId": "f0fe4806-d140-4c79-8fe3-493656e39c38"
      },
      "source": [
        "\n",
        "SvcModel = SVC()\n",
        "#SvcModel = SVC(kernel = 'linear', random_state = 42)\n",
        "SvcModel.fit(X_train, y_train)\n",
        "y_prediction_SVM = SvcModel.predict(X_test)\n",
        "\n",
        "accuracy1_SVM = SvcModel.score(X_train, y_train)\n",
        "print(\"Accuracy of train data = \", accuracy1_SVM * 100, \"%\")\n",
        "accuracy2_SVM = SvcModel.score(X_test, y_test)\n",
        "print(\"Accuracy of test data = \", accuracy2_SVM * 100, \"%\")\n",
        "\n",
        "#from sklearn.metrics import classification_report, confusion_matrix\n",
        "#print(classification_report(y_test, y_prediction_SVM))"
      ],
      "execution_count": 43,
      "outputs": [
        {
          "output_type": "stream",
          "name": "stdout",
          "text": [
            "Accuracy of train data =  84.89065606361828 %\n",
            "Accuracy of test data =  86.11111111111111 %\n"
          ]
        }
      ]
    },
    {
      "cell_type": "code",
      "metadata": {
        "colab": {
          "base_uri": "https://localhost:8080/"
        },
        "id": "4OzdybrD2GDw",
        "outputId": "d9583456-fa3c-4667-8900-6bde1de09e54"
      },
      "source": [
        "param_grid_SVM = {'C': [0.01,0.1, 1, 10, 100, 1000],\n",
        "              'gamma': [1, 0.1, 0.01, 0.001, 0.0001],\n",
        "              'kernel': ['rbf','sigmoid']}\n",
        "grid_SVM = RandomizedSearchCV(SVC(), param_grid_SVM, refit = True,return_train_score=True, n_jobs=-1,cv=5).fit(X_train, y_train)\n",
        "\n",
        "# print best parameter after tuning\n",
        "print('Best Score: %s' % grid_SVM.best_score_)\n",
        "print(\"BEST PARAMETER:\",grid_SVM.best_params_) \n",
        "# print how our model looks after hyper-parameter tuning\n",
        "#print(grid.best_estimator_)\n"
      ],
      "execution_count": 44,
      "outputs": [
        {
          "output_type": "stream",
          "name": "stdout",
          "text": [
            "Best Score: 0.8489306930693068\n",
            "BEST PARAMETER: {'kernel': 'rbf', 'gamma': 0.0001, 'C': 1000}\n"
          ]
        }
      ]
    },
    {
      "cell_type": "code",
      "metadata": {
        "colab": {
          "base_uri": "https://localhost:8080/"
        },
        "id": "0EbU6v512GJj",
        "outputId": "6d7579ed-92a4-4a24-c922-a1ef2d5a57ea"
      },
      "source": [
        "Tuned_SVM_model = SVC(**grid_SVM.best_params_).fit(X_train, y_train)\n",
        "Tuned_SVM_y_prediction= Tuned_SVM_model.predict(X_test)\n",
        "\n",
        "print(\"Accuracy of train data = \", (Tuned_SVM_model.score(X_train, y_train)) * 100, \"%\")\n",
        "print(\"Accuracy of test data = \", (Tuned_SVM_model.score(X_test, y_test)) * 100, \"%\")"
      ],
      "execution_count": 45,
      "outputs": [
        {
          "output_type": "stream",
          "name": "stdout",
          "text": [
            "Accuracy of train data =  95.42743538767395 %\n",
            "Accuracy of test data =  85.18518518518519 %\n"
          ]
        }
      ]
    },
    {
      "cell_type": "markdown",
      "metadata": {
        "id": "I7aCpU8YJZ_2"
      },
      "source": [
        "### **DECISION TREE**"
      ]
    },
    {
      "cell_type": "code",
      "metadata": {
        "colab": {
          "base_uri": "https://localhost:8080/"
        },
        "id": "kCkDxCkQ2GeR",
        "outputId": "9f82d40a-c229-46ab-9342-33f775c92cb1"
      },
      "source": [
        "decision_tree = DecisionTreeClassifier()\n",
        "decision_tree.fit(X_train , y_train)\n",
        "y_pred_decision_tree = decision_tree.predict(X_test)\n",
        "\n",
        "\n",
        "accuracy1_DT = decision_tree.score(X_train, y_train)\n",
        "print(\"Accuracy of train data = \", accuracy1_DT * 100, \"%\")\n",
        "accuracy2_DT = decision_tree.score(X_test, y_test)\n",
        "print(\"Accuracy of test data = \", accuracy2_DT * 100, \"%\")"
      ],
      "execution_count": 15,
      "outputs": [
        {
          "output_type": "stream",
          "name": "stdout",
          "text": [
            "Accuracy of train data =  100.0 %\n",
            "Accuracy of test data =  86.11111111111111 %\n"
          ]
        }
      ]
    },
    {
      "cell_type": "code",
      "metadata": {
        "colab": {
          "base_uri": "https://localhost:8080/"
        },
        "id": "c2-DaUHT2GkR",
        "outputId": "1199dd34-8a83-4962-cea7-548ecb1624bd"
      },
      "source": [
        "param_grid_DT = {'criterion': [\"gini\", \"entropy\"], \n",
        "              'splitter': [\"best\", \"random\"], \n",
        "              'max_depth': [1, 2, 3], \n",
        "              'min_samples_split': [2, 3, 4]}\n",
        "grid_DT = RandomizedSearchCV(DecisionTreeClassifier(), param_grid_DT, cv=5, n_jobs=-1,scoring = 'accuracy' ).fit(X_train,y_train)\n",
        "\n",
        "\n",
        "print (\"Best score is:\",grid_DT.best_score_) \n",
        "print (\"BEST PARAMETERS:\",grid_DT.best_params_)\n",
        "\n",
        "\n",
        "#best_model = grid_DecisionTree.best_estimator_\n",
        "#y_pred = best_model.predict(X_test)\n",
        "#The accuracy of the test set:\n",
        "#print (\"The test set accuracy is:\",accuracy_score(y_test, y_pred))"
      ],
      "execution_count": 16,
      "outputs": [
        {
          "output_type": "stream",
          "name": "stdout",
          "text": [
            "Best score is: 0.8707128712871286\n",
            "BEST PARAMETERS: {'splitter': 'best', 'min_samples_split': 4, 'max_depth': 3, 'criterion': 'gini'}\n"
          ]
        }
      ]
    },
    {
      "cell_type": "code",
      "metadata": {
        "colab": {
          "base_uri": "https://localhost:8080/"
        },
        "id": "3-cwcVE_Boob",
        "outputId": "dab51825-68e1-4dca-cc81-16723ce0fb34"
      },
      "source": [
        "Tuned_DT_model = DecisionTreeClassifier(**grid_DT.best_params_).fit(X_train,y_train)\n",
        "Tuned_DT_y_prediction= Tuned_DT_model.predict(X_test)\n",
        "\n",
        "HP_accuracy1_DT = Tuned_DT_model.score(X_train, y_train)\n",
        "print(\"Accuracy of train data = \", HP_accuracy1_DT * 100, \"%\")\n",
        "HP_accuracy2_DT = Tuned_DT_model.score(X_test, y_test)\n",
        "print(\"Accuracy of test data = \", HP_accuracy2_DT * 100, \"%\")\n",
        "\n",
        "#print (\"Accuracy : \", accuracy_score(y_test, Tuned_DT_y_prediction)*100,\"%\")"
      ],
      "execution_count": 17,
      "outputs": [
        {
          "output_type": "stream",
          "name": "stdout",
          "text": [
            "Accuracy of train data =  90.25844930417495 %\n",
            "Accuracy of test data =  86.57407407407408 %\n"
          ]
        }
      ]
    },
    {
      "cell_type": "markdown",
      "metadata": {
        "id": "ILVM8sKhCsIu"
      },
      "source": [
        "### **NAIVE BAYES**"
      ]
    },
    {
      "cell_type": "code",
      "metadata": {
        "colab": {
          "base_uri": "https://localhost:8080/"
        },
        "id": "ivmGqGd2Cq5e",
        "outputId": "daadf0e3-3a59-42b2-9951-256cefd145df"
      },
      "source": [
        "naive_bayes = GaussianNB()\n",
        "naive_bayes.fit(X_train , y_train)\n",
        "y_pred_naive_bayes = naive_bayes.predict(X_test)\n",
        "\n",
        "accuracy1_NB = naive_bayes.score(X_train, y_train)\n",
        "print(\"Accuracy of train data = \", accuracy1_NB * 100, \"%\")\n",
        "accuracy2_NB = naive_bayes.score(X_test, y_test)\n",
        "print(\"Accuracy of test data = \", accuracy2_NB * 100, \"%\")"
      ],
      "execution_count": 23,
      "outputs": [
        {
          "output_type": "stream",
          "name": "stdout",
          "text": [
            "Accuracy of train data =  85.2882703777336 %\n",
            "Accuracy of test data =  87.03703703703704 %\n"
          ]
        }
      ]
    },
    {
      "cell_type": "code",
      "metadata": {
        "colab": {
          "base_uri": "https://localhost:8080/"
        },
        "id": "cIF4cwQpLhI1",
        "outputId": "02bbf6e4-4f40-4bb9-bf02-c857f95d39a8"
      },
      "source": [
        "np.logspace(0,-9, num=10)"
      ],
      "execution_count": 24,
      "outputs": [
        {
          "output_type": "execute_result",
          "data": {
            "text/plain": [
              "array([1.e+00, 1.e-01, 1.e-02, 1.e-03, 1.e-04, 1.e-05, 1.e-06, 1.e-07,\n",
              "       1.e-08, 1.e-09])"
            ]
          },
          "metadata": {},
          "execution_count": 24
        }
      ]
    },
    {
      "cell_type": "code",
      "metadata": {
        "colab": {
          "base_uri": "https://localhost:8080/"
        },
        "id": "MgIclbJpOhGO",
        "outputId": "618f4396-6407-463e-871d-9fe28b24e67d"
      },
      "source": [
        "params_NB = {'var_smoothing': np.logspace(0,-9, num=100)}\n",
        "grid_NB = RandomizedSearchCV(GaussianNB(),params_NB, cv=5, scoring='accuracy').fit(X_train,y_train)\n",
        "\n",
        "print (\"Best score is:\",grid_NB.best_score_) \n",
        "print (\"BEST PARAMETERS:\",grid_NB.best_params_)"
      ],
      "execution_count": 29,
      "outputs": [
        {
          "output_type": "stream",
          "name": "stdout",
          "text": [
            "Best score is: 0.8468316831683168\n",
            "BEST PARAMETERS: {'var_smoothing': 2.848035868435799e-07}\n"
          ]
        }
      ]
    },
    {
      "cell_type": "code",
      "metadata": {
        "colab": {
          "base_uri": "https://localhost:8080/"
        },
        "id": "aUBv1VGuOufZ",
        "outputId": "1ec56193-3b86-4a6e-cc77-c60086a22e94"
      },
      "source": [
        "Tuned_NB_model = GaussianNB(**grid_NB.best_params_).fit(X_train,y_train)\n",
        "Tuned_NB_y_prediction= Tuned_NB_model.predict(X_test)\n",
        "\n",
        "HP_accuracy1_NB = Tuned_NB_model.score(X_train, y_train)\n",
        "print(\"Accuracy of train data = \", HP_accuracy1_NB * 100, \"%\")\n",
        "HP_accuracy2_NB = Tuned_NB_model.score(X_test, y_test)\n",
        "print(\"Accuracy of test data = \", HP_accuracy2_NB * 100, \"%\")\n",
        "\n",
        "#print (\"Accuracy : \", accuracy_score(y_test, Tuned_NB_y_prediction)*100,\"%\")"
      ],
      "execution_count": 30,
      "outputs": [
        {
          "output_type": "stream",
          "name": "stdout",
          "text": [
            "Accuracy of train data =  85.2882703777336 %\n",
            "Accuracy of test data =  87.03703703703704 %\n"
          ]
        }
      ]
    },
    {
      "cell_type": "markdown",
      "metadata": {
        "id": "FRXFR5QnU5E0"
      },
      "source": [
        "### **RANDOM FOREST**"
      ]
    },
    {
      "cell_type": "code",
      "metadata": {
        "colab": {
          "base_uri": "https://localhost:8080/"
        },
        "id": "Wo-vPN-xL-_l",
        "outputId": "5b538ea3-2a23-4da0-947d-d55f48a765c6"
      },
      "source": [
        "Random_Forest = RandomForestClassifier()\n",
        "Random_Forest.fit(X_train , y_train)\n",
        "y_pred_Random_Forest = Random_Forest.predict(X_test)\n",
        "\n",
        "\n",
        "accuracy1_RF = Random_Forest.score(X_train, y_train)\n",
        "print(\"Accuracy of train data = \", accuracy1_RF * 100, \"%\")\n",
        "accuracy2_RF = Random_Forest.score(X_test, y_test)\n",
        "print(\"Accuracy of test data = \", accuracy2_RF * 100, \"%\")"
      ],
      "execution_count": 31,
      "outputs": [
        {
          "output_type": "stream",
          "name": "stdout",
          "text": [
            "Accuracy of train data =  100.0 %\n",
            "Accuracy of test data =  90.74074074074075 %\n"
          ]
        }
      ]
    },
    {
      "cell_type": "code",
      "metadata": {
        "colab": {
          "base_uri": "https://localhost:8080/"
        },
        "id": "MmW9-1ZHOBEp",
        "outputId": "c7cdfc5b-a1ab-4794-9ff5-eaba791103a1"
      },
      "source": [
        "param_grid_RF = {'bootstrap': [True],\n",
        "    'max_depth': [80, 90, 100,110],\n",
        "    'criterion' : ('gini','entropy'),\n",
        "    'max_features': [2, 3],\n",
        "    #'min_samples_leaf': [3, 4, 5],\n",
        "    #'min_samples_split': [8, 10, 12],\n",
        "    'n_estimators': [ 200, 300, 1000]}\n",
        "grid_RF = RandomizedSearchCV(RandomForestClassifier(), param_grid_RF, cv=5, n_jobs=-1,scoring = 'accuracy' ).fit(X_train,y_train)\n",
        "\n",
        "\n",
        "print (\"Best score is:\",grid_RF.best_score_) \n",
        "print (\"BEST PARAMETERS:\",grid_RF.best_params_)\n",
        "\n",
        "\n",
        "#best_model = grid_DecisionTree.best_estimator_\n",
        "#y_pred = best_model.predict(X_test)\n",
        "#The accuracy of the test set:\n",
        "#print (\"The test set accuracy is:\",accuracy_score(y_test, y_pred))"
      ],
      "execution_count": 34,
      "outputs": [
        {
          "output_type": "stream",
          "name": "stdout",
          "text": [
            "Best score is: 0.8865940594059406\n",
            "BEST PARAMETERS: {'n_estimators': 1000, 'max_features': 2, 'max_depth': 110, 'criterion': 'entropy', 'bootstrap': True}\n"
          ]
        }
      ]
    },
    {
      "cell_type": "code",
      "metadata": {
        "colab": {
          "base_uri": "https://localhost:8080/"
        },
        "id": "WYpu8AhMX3up",
        "outputId": "6749b397-3861-4dc0-fd48-1bac7e80c406"
      },
      "source": [
        "Tuned_RF_model = RandomForestClassifier(**grid_RF.best_params_).fit(X_train,y_train)\n",
        "Tuned_RF_y_prediction= Tuned_RF_model.predict(X_test)\n",
        "\n",
        "HP_accuracy1_RF = Tuned_RF_model.score(X_train, y_train)\n",
        "print(\"Accuracy of train data = \", HP_accuracy1_RF * 100, \"%\")\n",
        "HP_accuracy2_RF = Tuned_RF_model.score(X_test, y_test)\n",
        "print(\"Accuracy of test data = \", HP_accuracy2_RF * 100, \"%\")\n",
        "\n",
        "#print (\"Accuracy : \", accuracy_score(y_test, Tuned_RF_y_prediction)*100,\"%\")"
      ],
      "execution_count": 36,
      "outputs": [
        {
          "output_type": "stream",
          "name": "stdout",
          "text": [
            "Accuracy of train data =  100.0 %\n",
            "Accuracy of test data =  89.81481481481481 %\n"
          ]
        }
      ]
    },
    {
      "cell_type": "markdown",
      "metadata": {
        "id": "0F43vs8Yj3Lm"
      },
      "source": [
        "### **KNN**"
      ]
    },
    {
      "cell_type": "code",
      "metadata": {
        "colab": {
          "base_uri": "https://localhost:8080/"
        },
        "id": "02Tg0C5Zj7pZ",
        "outputId": "40bbbed8-8966-4c7b-ddb0-8aefaec10812"
      },
      "source": [
        "KNN_model=KNeighborsClassifier()\n",
        "KNN_model.fit(X_train , y_train)\n",
        "y_pred_KNN=KNN_model.predict(X_test)\n",
        "\n",
        "accuracy1_KNN = KNN_model.score(X_train, y_train)\n",
        "print(\"Accuracy of train data = \", accuracy1_KNN * 100, \"%\")\n",
        "accuracy2_KNN = KNN_model.score(X_test, y_test)\n",
        "print(\"Accuracy of test data = \", accuracy2_KNN * 100, \"%\")"
      ],
      "execution_count": 37,
      "outputs": [
        {
          "output_type": "stream",
          "name": "stdout",
          "text": [
            "Accuracy of train data =  89.26441351888667 %\n",
            "Accuracy of test data =  84.72222222222221 %\n"
          ]
        }
      ]
    },
    {
      "cell_type": "code",
      "metadata": {
        "colab": {
          "base_uri": "https://localhost:8080/"
        },
        "id": "U7napzYRj7zN",
        "outputId": "66c02814-c406-44b9-c982-63f19e30262b"
      },
      "source": [
        "k_range = list(range(1, 31))\n",
        "param_grid_KNN = dict(n_neighbors=k_range)\n",
        "\n",
        "grid_KNN = RandomizedSearchCV(KNeighborsClassifier(), param_grid_KNN, cv=5, n_jobs=-1,scoring = 'accuracy' ).fit(X_train,y_train)\n",
        "\n",
        "\n",
        "print (\"Best score is:\",grid_KNN.best_score_) \n",
        "print (\"BEST PARAMETERS:\",grid_KNN.best_params_)\n"
      ],
      "execution_count": 39,
      "outputs": [
        {
          "output_type": "stream",
          "name": "stdout",
          "text": [
            "Best score is: 0.8826732673267328\n",
            "BEST PARAMETERS: {'n_neighbors': 7}\n"
          ]
        }
      ]
    },
    {
      "cell_type": "code",
      "metadata": {
        "colab": {
          "base_uri": "https://localhost:8080/"
        },
        "id": "_zamTd5Tj7-b",
        "outputId": "52b5e698-8c7f-4645-c003-f9cbe0610788"
      },
      "source": [
        "Tuned_KNN_model = KNeighborsClassifier(**grid_KNN.best_params_).fit(X_train,y_train)\n",
        "Tuned_KNN_y_prediction= Tuned_KNN_model.predict(X_test)\n",
        "\n",
        "HP_accuracy1_KNN = Tuned_KNN_model.score(X_train, y_train)\n",
        "print(\"Accuracy of train data = \", HP_accuracy1_KNN * 100, \"%\")\n",
        "HP_accuracy2_KNN = Tuned_KNN_model.score(X_test, y_test)\n",
        "print(\"Accuracy of test data = \", HP_accuracy2_KNN * 100, \"%\")\n",
        "\n",
        "#print (\"Accuracy : \", accuracy_score(y_test, Tuned_KNN_y_prediction)*100,\"%\")"
      ],
      "execution_count": 41,
      "outputs": [
        {
          "output_type": "stream",
          "name": "stdout",
          "text": [
            "Accuracy of train data =  89.06560636182903 %\n",
            "Accuracy of test data =  86.57407407407408 %\n"
          ]
        }
      ]
    },
    {
      "cell_type": "markdown",
      "metadata": {
        "id": "4Z52gZ-BS1rx"
      },
      "source": [
        "### **COMPARISION OF ACCURACY**"
      ]
    },
    {
      "cell_type": "code",
      "metadata": {
        "id": "H1mbJm9aj8Cq",
        "colab": {
          "base_uri": "https://localhost:8080/",
          "height": 457
        },
        "outputId": "8ead5bd1-d050-48f2-998e-bf42f9b6faea"
      },
      "source": [
        "data_dict = {'LR':86.11, 'SVM':85.64, 'DT':86.57,'NB':89.35, 'RF':90.74, 'KNN':86.57}\n",
        "courses = list(data_dict.keys())\n",
        "values = list(data_dict.values())\n",
        "fig = plt.figure(figsize = (10, 7))\n",
        "#  Bar plot\n",
        "plt.bar(courses, values, color ='rgb',width = 0.5)\n",
        "plt.xlabel(\"ALGORITHMS USED\")\n",
        "plt.ylabel(\"ACCURACY\")\n",
        "plt.title(\"ACCURACY FOR TESTING DATA USING DIFFERENT ALGORITHM\")\n",
        "plt.show()"
      ],
      "execution_count": 42,
      "outputs": [
        {
          "output_type": "display_data",
          "data": {
            "image/png": "[encoded data removed]",
            "text/plain": [
              "<Figure size 720x504 with 1 Axes>"
            ]
          },
          "metadata": {
            "needs_background": "light"
          }
        }
      ]
    },
    {
      "cell_type": "code",
      "metadata": {
        "id": "Q1FqHbE1j8GS"
      },
      "source": [
        ""
      ],
      "execution_count": null,
      "outputs": []
    },
    {
      "cell_type": "code",
      "metadata": {
        "id": "acYzEKGmL-y4"
      },
      "source": [
        "\n"
      ],
      "execution_count": null,
      "outputs": []
    },
    {
      "cell_type": "code",
      "metadata": {
        "id": "t7weaJje5RoK"
      },
      "source": [
        ""
      ],
      "execution_count": null,
      "outputs": []
    },
    {
      "cell_type": "code",
      "metadata": {
        "id": "IzIC-vWMCqzk"
      },
      "source": [
        ""
      ],
      "execution_count": null,
      "outputs": []
    },
    {
      "cell_type": "code",
      "metadata": {
        "id": "-XmVH7qrL_px"
      },
      "source": [
        ""
      ],
      "execution_count": null,
      "outputs": []
    }
  ]
}