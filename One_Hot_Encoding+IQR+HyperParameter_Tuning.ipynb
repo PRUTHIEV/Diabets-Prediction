{
  "nbformat": 4,
  "nbformat_minor": 0,
  "metadata": {
    "colab": {
      "name": "One-Hot-Encoding+IQR+HyperParameter-Tuning.ipynb",
      "provenance": [],
      "authorship_tag": "ABX9TyM53d7Yh1k+lvdVrH3yjhcH",
      "include_colab_link": true
    },
    "kernelspec": {
      "name": "python3",
      "display_name": "Python 3"
    },
    "language_info": {
      "name": "python"
    }
  },
  "cells": [
    {
      "cell_type": "markdown",
      "metadata": {
        "id": "view-in-github",
        "colab_type": "text"
      },
      "source": [
        "<a href=\"https://colab.research.google.com/github/SummerProjectTEAM-10/sample/blob/SRUTHI/One_Hot_Encoding%2BIQR%2BHyperParameter_Tuning.ipynb\" target=\"_parent\"><img src=\"https://colab.research.google.com/assets/colab-badge.svg\" alt=\"Open In Colab\"/></a>"
      ]
    },
    {
      "cell_type": "markdown",
      "metadata": {
        "id": "33loBnrAXHoh"
      },
      "source": [
        "### **IMPORT LIBRARIES AND DATASET**"
      ]
    },
    {
      "cell_type": "code",
      "metadata": {
        "colab": {
          "base_uri": "https://localhost:8080/",
          "height": 141
        },
        "id": "5e03GaRQQhf_",
        "outputId": "ef9312d7-9a7f-41cb-89ee-3b866b7585e0"
      },
      "source": [
        "import numpy as np\n",
        "import pandas as pd\n",
        "import seaborn as sns\n",
        "import matplotlib.pyplot as plt\n",
        "%matplotlib inline\n",
        "from scipy import stats\n",
        "\n",
        "\n",
        "from sklearn.preprocessing import LabelEncoder\n",
        "from sklearn.metrics import accuracy_score\n",
        "from sklearn.model_selection import RepeatedStratifiedKFold\n",
        "from sklearn.model_selection import GridSearchCV\n",
        "\n",
        "from sklearn.model_selection import train_test_split\n",
        "from sklearn.linear_model import LogisticRegression\n",
        "from sklearn.svm import SVC\n",
        "from sklearn.tree import DecisionTreeClassifier\n",
        "from sklearn import tree\n",
        "from sklearn.naive_bayes import GaussianNB\n",
        "from sklearn.neighbors import KNeighborsClassifier\n",
        "from sklearn.ensemble import RandomForestClassifier\n",
        "\n",
        "import warnings\n",
        "warnings.filterwarnings(\"ignore\")\n",
        "\n",
        "df=pd.read_csv('/content/pima-indians-diabetes.csv')\n",
        "df.head(3)"
      ],
      "execution_count": 1,
      "outputs": [
        {
          "output_type": "execute_result",
          "data": {
            "text/html": [
              "<div>\n",
              "<style scoped>\n",
              "    .dataframe tbody tr th:only-of-type {\n",
              "        vertical-align: middle;\n",
              "    }\n",
              "\n",
              "    .dataframe tbody tr th {\n",
              "        vertical-align: top;\n",
              "    }\n",
              "\n",
              "    .dataframe thead th {\n",
              "        text-align: right;\n",
              "    }\n",
              "</style>\n",
              "<table border=\"1\" class=\"dataframe\">\n",
              "  <thead>\n",
              "    <tr style=\"text-align: right;\">\n",
              "      <th></th>\n",
              "      <th>Pregnancies</th>\n",
              "      <th>Glucose</th>\n",
              "      <th>BloodPressure</th>\n",
              "      <th>SkinThickness</th>\n",
              "      <th>Insulin</th>\n",
              "      <th>BMI</th>\n",
              "      <th>DiabetesPedigreeFunction</th>\n",
              "      <th>Age</th>\n",
              "      <th>Outcome</th>\n",
              "    </tr>\n",
              "  </thead>\n",
              "  <tbody>\n",
              "    <tr>\n",
              "      <th>0</th>\n",
              "      <td>6</td>\n",
              "      <td>148</td>\n",
              "      <td>72</td>\n",
              "      <td>35</td>\n",
              "      <td>0</td>\n",
              "      <td>33.6</td>\n",
              "      <td>0.627</td>\n",
              "      <td>50</td>\n",
              "      <td>1</td>\n",
              "    </tr>\n",
              "    <tr>\n",
              "      <th>1</th>\n",
              "      <td>1</td>\n",
              "      <td>85</td>\n",
              "      <td>66</td>\n",
              "      <td>29</td>\n",
              "      <td>0</td>\n",
              "      <td>26.6</td>\n",
              "      <td>0.351</td>\n",
              "      <td>31</td>\n",
              "      <td>0</td>\n",
              "    </tr>\n",
              "    <tr>\n",
              "      <th>2</th>\n",
              "      <td>8</td>\n",
              "      <td>183</td>\n",
              "      <td>64</td>\n",
              "      <td>0</td>\n",
              "      <td>0</td>\n",
              "      <td>23.3</td>\n",
              "      <td>0.672</td>\n",
              "      <td>32</td>\n",
              "      <td>1</td>\n",
              "    </tr>\n",
              "  </tbody>\n",
              "</table>\n",
              "</div>"
            ],
            "text/plain": [
              "   Pregnancies  Glucose  BloodPressure  ...  DiabetesPedigreeFunction  Age  Outcome\n",
              "0            6      148             72  ...                     0.627   50        1\n",
              "1            1       85             66  ...                     0.351   31        0\n",
              "2            8      183             64  ...                     0.672   32        1\n",
              "\n",
              "[3 rows x 9 columns]"
            ]
          },
          "metadata": {},
          "execution_count": 1
        }
      ]
    },
    {
      "cell_type": "markdown",
      "metadata": {
        "id": "JQBMKjlNXSNR"
      },
      "source": [
        "### **DATA PREPROCESSING**"
      ]
    },
    {
      "cell_type": "code",
      "metadata": {
        "id": "X3LLarxeRDpm"
      },
      "source": [
        "dataset=df\n",
        "df[['Glucose','BloodPressure','SkinThickness','Insulin','BMI']] = df[['Glucose','BloodPressure','SkinThickness','Insulin','BMI']].replace(0,np.NaN)\n",
        "# The missing values ​​will be filled with the median values ​​of each variable.\n",
        "def median_target(var):   \n",
        "    temp = df[df[var].notnull()]\n",
        "    temp = temp[[var, 'Outcome']].groupby(['Outcome'])[[var]].median().reset_index()\n",
        "    return temp\n",
        "# The values to be given for incomplete observations are given the median value of people who are not sick and the median values of people who are sick.\n",
        "columns = df.columns\n",
        "columns = columns.drop(\"Outcome\")\n",
        "for i in columns:\n",
        "    median_target(i)\n",
        "    df.loc[(df['Outcome'] == 0 ) & (df[i].isnull()), i] = median_target(i)[i][0]\n",
        "    df.loc[(df['Outcome'] == 1 ) & (df[i].isnull()), i] = median_target(i)[i][1]\n",
        "\n"
      ],
      "execution_count": 2,
      "outputs": []
    },
    {
      "cell_type": "markdown",
      "metadata": {
        "id": "X9Am9ejUXc17"
      },
      "source": [
        "### **OUTLIER REJECTION USING IQR**"
      ]
    },
    {
      "cell_type": "code",
      "metadata": {
        "colab": {
          "base_uri": "https://localhost:8080/"
        },
        "id": "O6puh9EyRLoY",
        "outputId": "b1baf9f1-5e89-4c49-d4ff-8534fab07cfa"
      },
      "source": [
        "\n",
        "Q1=df.quantile(0.25)\n",
        "Q3=df.quantile(0.75)\n",
        "IQR=Q3-Q1\n",
        "\n",
        "print(\"---Q1--- \\n\",Q1)\n",
        "print(\"\\n---Q3--- \\n\",Q3)\n",
        "print(\"\\n---IQR---\\n\",IQR)"
      ],
      "execution_count": 3,
      "outputs": [
        {
          "output_type": "stream",
          "name": "stdout",
          "text": [
            "---Q1--- \n",
            " Pregnancies                   1.00000\n",
            "Glucose                      99.75000\n",
            "BloodPressure                64.00000\n",
            "SkinThickness                25.00000\n",
            "Insulin                     102.50000\n",
            "BMI                          27.50000\n",
            "DiabetesPedigreeFunction      0.24375\n",
            "Age                          24.00000\n",
            "Outcome                       0.00000\n",
            "Name: 0.25, dtype: float64\n",
            "\n",
            "---Q3--- \n",
            " Pregnancies                   6.00000\n",
            "Glucose                     140.25000\n",
            "BloodPressure                80.00000\n",
            "SkinThickness                32.00000\n",
            "Insulin                     169.50000\n",
            "BMI                          36.60000\n",
            "DiabetesPedigreeFunction      0.62625\n",
            "Age                          41.00000\n",
            "Outcome                       1.00000\n",
            "Name: 0.75, dtype: float64\n",
            "\n",
            "---IQR---\n",
            " Pregnancies                  5.0000\n",
            "Glucose                     40.5000\n",
            "BloodPressure               16.0000\n",
            "SkinThickness                7.0000\n",
            "Insulin                     67.0000\n",
            "BMI                          9.1000\n",
            "DiabetesPedigreeFunction     0.3825\n",
            "Age                         17.0000\n",
            "Outcome                      1.0000\n",
            "dtype: float64\n"
          ]
        }
      ]
    },
    {
      "cell_type": "code",
      "metadata": {
        "colab": {
          "base_uri": "https://localhost:8080/"
        },
        "id": "BjLJowQ5RMk-",
        "outputId": "2b1de0cb-bbe5-498e-cbcf-661887337693"
      },
      "source": [
        "\n",
        "#outlier remove\n",
        "df_out = df[~((df < (Q1 - 1.5 * IQR)) |(df > (Q3 + 1.5 * IQR))).any(axis=1)]\n",
        "df.shape,df_out.shape"
      ],
      "execution_count": 4,
      "outputs": [
        {
          "output_type": "execute_result",
          "data": {
            "text/plain": [
              "((768, 9), (590, 9))"
            ]
          },
          "metadata": {},
          "execution_count": 4
        }
      ]
    },
    {
      "cell_type": "markdown",
      "metadata": {
        "id": "Rl5-RYsWXjr9"
      },
      "source": [
        "### **FEATURE ENGINEERING**"
      ]
    },
    {
      "cell_type": "code",
      "metadata": {
        "colab": {
          "base_uri": "https://localhost:8080/",
          "height": 141
        },
        "id": "qlRIv6mYR4a2",
        "outputId": "2a7485a4-f761-4972-ad48-e3ae7d69bf1b"
      },
      "source": [
        "# According to BMI, some ranges are determined and categorical variables are assigned.\n",
        "NewBMI = pd.Series([\"Underweight\", \"Healthy\", \"Overweight\", \"Obesity 1\", \"Obesity 2\", \"Obesity 3\"], dtype = \"category\")\n",
        "df[\"NewBMI\"] = NewBMI\n",
        "df.loc[df[\"BMI\"] < 18.5, \"NewBMI\"] = NewBMI[0]\n",
        "df.loc[(df[\"BMI\"] > 18.5) & (df[\"BMI\"] <= 24.9), \"NewBMI\"] = NewBMI[1]\n",
        "df.loc[(df[\"BMI\"] > 24.9) & (df[\"BMI\"] <= 29.9), \"NewBMI\"] = NewBMI[2]\n",
        "df.loc[(df[\"BMI\"] > 29.9) & (df[\"BMI\"] <= 34.9), \"NewBMI\"] = NewBMI[3]\n",
        "df.loc[(df[\"BMI\"] > 34.9) & (df[\"BMI\"] <= 39.9), \"NewBMI\"] = NewBMI[4]\n",
        "df.loc[df[\"BMI\"] > 39.9 ,\"NewBMI\"] = NewBMI[5]\n",
        "\n",
        "# A categorical variable creation process is performed according to the insulin value.\n",
        "def set_insulin(row):\n",
        "    if row[\"Insulin\"] >= 16 and row[\"Insulin\"] <= 166:\n",
        "        return \"Normal\"\n",
        "    else:\n",
        "        return \"Abnormal\"\n",
        "df = df.assign(NewInsulinScore=df.apply(set_insulin, axis=1))\n",
        "\n",
        "# Some intervals were determined according to the glucose variable and these were assigned categorical variables.\n",
        "NewGlucose = pd.Series([\"Low\", \"Normal\", \"Prediabetes\", \"High\"], dtype = \"category\")\n",
        "df[\"NewGlucose\"] = NewGlucose\n",
        "df.loc[df[\"Glucose\"] <= 70, \"NewGlucose\"] = NewGlucose[0]\n",
        "df.loc[(df[\"Glucose\"] > 70) & (df[\"Glucose\"] <= 99), \"NewGlucose\"] = NewGlucose[1]\n",
        "df.loc[(df[\"Glucose\"] > 99) & (df[\"Glucose\"] <= 126), \"NewGlucose\"] = NewGlucose[2]\n",
        "df.loc[df[\"Glucose\"] > 126 ,\"NewGlucose\"] = NewGlucose[3]\n",
        "\n",
        "df.head(3)"
      ],
      "execution_count": 5,
      "outputs": [
        {
          "output_type": "execute_result",
          "data": {
            "text/html": [
              "<div>\n",
              "<style scoped>\n",
              "    .dataframe tbody tr th:only-of-type {\n",
              "        vertical-align: middle;\n",
              "    }\n",
              "\n",
              "    .dataframe tbody tr th {\n",
              "        vertical-align: top;\n",
              "    }\n",
              "\n",
              "    .dataframe thead th {\n",
              "        text-align: right;\n",
              "    }\n",
              "</style>\n",
              "<table border=\"1\" class=\"dataframe\">\n",
              "  <thead>\n",
              "    <tr style=\"text-align: right;\">\n",
              "      <th></th>\n",
              "      <th>Pregnancies</th>\n",
              "      <th>Glucose</th>\n",
              "      <th>BloodPressure</th>\n",
              "      <th>SkinThickness</th>\n",
              "      <th>Insulin</th>\n",
              "      <th>BMI</th>\n",
              "      <th>DiabetesPedigreeFunction</th>\n",
              "      <th>Age</th>\n",
              "      <th>Outcome</th>\n",
              "      <th>NewBMI</th>\n",
              "      <th>NewInsulinScore</th>\n",
              "      <th>NewGlucose</th>\n",
              "    </tr>\n",
              "  </thead>\n",
              "  <tbody>\n",
              "    <tr>\n",
              "      <th>0</th>\n",
              "      <td>6</td>\n",
              "      <td>148.0</td>\n",
              "      <td>72.0</td>\n",
              "      <td>35.0</td>\n",
              "      <td>169.5</td>\n",
              "      <td>33.6</td>\n",
              "      <td>0.627</td>\n",
              "      <td>50</td>\n",
              "      <td>1</td>\n",
              "      <td>Obesity 1</td>\n",
              "      <td>Abnormal</td>\n",
              "      <td>High</td>\n",
              "    </tr>\n",
              "    <tr>\n",
              "      <th>1</th>\n",
              "      <td>1</td>\n",
              "      <td>85.0</td>\n",
              "      <td>66.0</td>\n",
              "      <td>29.0</td>\n",
              "      <td>102.5</td>\n",
              "      <td>26.6</td>\n",
              "      <td>0.351</td>\n",
              "      <td>31</td>\n",
              "      <td>0</td>\n",
              "      <td>Overweight</td>\n",
              "      <td>Normal</td>\n",
              "      <td>Normal</td>\n",
              "    </tr>\n",
              "    <tr>\n",
              "      <th>2</th>\n",
              "      <td>8</td>\n",
              "      <td>183.0</td>\n",
              "      <td>64.0</td>\n",
              "      <td>32.0</td>\n",
              "      <td>169.5</td>\n",
              "      <td>23.3</td>\n",
              "      <td>0.672</td>\n",
              "      <td>32</td>\n",
              "      <td>1</td>\n",
              "      <td>Healthy</td>\n",
              "      <td>Abnormal</td>\n",
              "      <td>High</td>\n",
              "    </tr>\n",
              "  </tbody>\n",
              "</table>\n",
              "</div>"
            ],
            "text/plain": [
              "   Pregnancies  Glucose  BloodPressure  ...      NewBMI  NewInsulinScore  NewGlucose\n",
              "0            6    148.0           72.0  ...   Obesity 1         Abnormal        High\n",
              "1            1     85.0           66.0  ...  Overweight           Normal      Normal\n",
              "2            8    183.0           64.0  ...     Healthy         Abnormal        High\n",
              "\n",
              "[3 rows x 12 columns]"
            ]
          },
          "metadata": {},
          "execution_count": 5
        }
      ]
    },
    {
      "cell_type": "markdown",
      "metadata": {
        "id": "39DQHR3zXoVO"
      },
      "source": [
        "### **ONE HOT ENCODING**"
      ]
    },
    {
      "cell_type": "code",
      "metadata": {
        "colab": {
          "base_uri": "https://localhost:8080/",
          "height": 141
        },
        "id": "p6lWINmDRRZV",
        "outputId": "fd4065bf-467d-4a1f-81df-5e57d6fe189a"
      },
      "source": [
        "from sklearn.preprocessing import OneHotEncoder\n",
        "df1 = pd.get_dummies(df, columns =[\"NewBMI\",\"NewInsulinScore\", \"NewGlucose\"], drop_first = True)\n",
        "categorical_df = df1[['NewBMI_Obesity 1','NewBMI_Obesity 2', 'NewBMI_Obesity 3', 'NewBMI_Overweight','NewBMI_Underweight',\n",
        "                     'NewInsulinScore_Normal','NewGlucose_Low','NewGlucose_Normal', 'NewGlucose_Prediabetes']]\n",
        "categorical_df.head(3)"
      ],
      "execution_count": 6,
      "outputs": [
        {
          "output_type": "execute_result",
          "data": {
            "text/html": [
              "<div>\n",
              "<style scoped>\n",
              "    .dataframe tbody tr th:only-of-type {\n",
              "        vertical-align: middle;\n",
              "    }\n",
              "\n",
              "    .dataframe tbody tr th {\n",
              "        vertical-align: top;\n",
              "    }\n",
              "\n",
              "    .dataframe thead th {\n",
              "        text-align: right;\n",
              "    }\n",
              "</style>\n",
              "<table border=\"1\" class=\"dataframe\">\n",
              "  <thead>\n",
              "    <tr style=\"text-align: right;\">\n",
              "      <th></th>\n",
              "      <th>NewBMI_Obesity 1</th>\n",
              "      <th>NewBMI_Obesity 2</th>\n",
              "      <th>NewBMI_Obesity 3</th>\n",
              "      <th>NewBMI_Overweight</th>\n",
              "      <th>NewBMI_Underweight</th>\n",
              "      <th>NewInsulinScore_Normal</th>\n",
              "      <th>NewGlucose_Low</th>\n",
              "      <th>NewGlucose_Normal</th>\n",
              "      <th>NewGlucose_Prediabetes</th>\n",
              "    </tr>\n",
              "  </thead>\n",
              "  <tbody>\n",
              "    <tr>\n",
              "      <th>0</th>\n",
              "      <td>1</td>\n",
              "      <td>0</td>\n",
              "      <td>0</td>\n",
              "      <td>0</td>\n",
              "      <td>0</td>\n",
              "      <td>0</td>\n",
              "      <td>0</td>\n",
              "      <td>0</td>\n",
              "      <td>0</td>\n",
              "    </tr>\n",
              "    <tr>\n",
              "      <th>1</th>\n",
              "      <td>0</td>\n",
              "      <td>0</td>\n",
              "      <td>0</td>\n",
              "      <td>1</td>\n",
              "      <td>0</td>\n",
              "      <td>1</td>\n",
              "      <td>0</td>\n",
              "      <td>1</td>\n",
              "      <td>0</td>\n",
              "    </tr>\n",
              "    <tr>\n",
              "      <th>2</th>\n",
              "      <td>0</td>\n",
              "      <td>0</td>\n",
              "      <td>0</td>\n",
              "      <td>0</td>\n",
              "      <td>0</td>\n",
              "      <td>0</td>\n",
              "      <td>0</td>\n",
              "      <td>0</td>\n",
              "      <td>0</td>\n",
              "    </tr>\n",
              "  </tbody>\n",
              "</table>\n",
              "</div>"
            ],
            "text/plain": [
              "   NewBMI_Obesity 1  ...  NewGlucose_Prediabetes\n",
              "0                 1  ...                       0\n",
              "1                 0  ...                       0\n",
              "2                 0  ...                       0\n",
              "\n",
              "[3 rows x 9 columns]"
            ]
          },
          "metadata": {},
          "execution_count": 6
        }
      ]
    },
    {
      "cell_type": "code",
      "metadata": {
        "colab": {
          "base_uri": "https://localhost:8080/",
          "height": 177
        },
        "id": "S1ZR40WfSc3z",
        "outputId": "981fcae2-a0bb-4c8d-b734-210e29939701"
      },
      "source": [
        "df1.head(3)"
      ],
      "execution_count": 7,
      "outputs": [
        {
          "output_type": "execute_result",
          "data": {
            "text/html": [
              "<div>\n",
              "<style scoped>\n",
              "    .dataframe tbody tr th:only-of-type {\n",
              "        vertical-align: middle;\n",
              "    }\n",
              "\n",
              "    .dataframe tbody tr th {\n",
              "        vertical-align: top;\n",
              "    }\n",
              "\n",
              "    .dataframe thead th {\n",
              "        text-align: right;\n",
              "    }\n",
              "</style>\n",
              "<table border=\"1\" class=\"dataframe\">\n",
              "  <thead>\n",
              "    <tr style=\"text-align: right;\">\n",
              "      <th></th>\n",
              "      <th>Pregnancies</th>\n",
              "      <th>Glucose</th>\n",
              "      <th>BloodPressure</th>\n",
              "      <th>SkinThickness</th>\n",
              "      <th>Insulin</th>\n",
              "      <th>BMI</th>\n",
              "      <th>DiabetesPedigreeFunction</th>\n",
              "      <th>Age</th>\n",
              "      <th>Outcome</th>\n",
              "      <th>NewBMI_Obesity 1</th>\n",
              "      <th>NewBMI_Obesity 2</th>\n",
              "      <th>NewBMI_Obesity 3</th>\n",
              "      <th>NewBMI_Overweight</th>\n",
              "      <th>NewBMI_Underweight</th>\n",
              "      <th>NewInsulinScore_Normal</th>\n",
              "      <th>NewGlucose_Low</th>\n",
              "      <th>NewGlucose_Normal</th>\n",
              "      <th>NewGlucose_Prediabetes</th>\n",
              "    </tr>\n",
              "  </thead>\n",
              "  <tbody>\n",
              "    <tr>\n",
              "      <th>0</th>\n",
              "      <td>6</td>\n",
              "      <td>148.0</td>\n",
              "      <td>72.0</td>\n",
              "      <td>35.0</td>\n",
              "      <td>169.5</td>\n",
              "      <td>33.6</td>\n",
              "      <td>0.627</td>\n",
              "      <td>50</td>\n",
              "      <td>1</td>\n",
              "      <td>1</td>\n",
              "      <td>0</td>\n",
              "      <td>0</td>\n",
              "      <td>0</td>\n",
              "      <td>0</td>\n",
              "      <td>0</td>\n",
              "      <td>0</td>\n",
              "      <td>0</td>\n",
              "      <td>0</td>\n",
              "    </tr>\n",
              "    <tr>\n",
              "      <th>1</th>\n",
              "      <td>1</td>\n",
              "      <td>85.0</td>\n",
              "      <td>66.0</td>\n",
              "      <td>29.0</td>\n",
              "      <td>102.5</td>\n",
              "      <td>26.6</td>\n",
              "      <td>0.351</td>\n",
              "      <td>31</td>\n",
              "      <td>0</td>\n",
              "      <td>0</td>\n",
              "      <td>0</td>\n",
              "      <td>0</td>\n",
              "      <td>1</td>\n",
              "      <td>0</td>\n",
              "      <td>1</td>\n",
              "      <td>0</td>\n",
              "      <td>1</td>\n",
              "      <td>0</td>\n",
              "    </tr>\n",
              "    <tr>\n",
              "      <th>2</th>\n",
              "      <td>8</td>\n",
              "      <td>183.0</td>\n",
              "      <td>64.0</td>\n",
              "      <td>32.0</td>\n",
              "      <td>169.5</td>\n",
              "      <td>23.3</td>\n",
              "      <td>0.672</td>\n",
              "      <td>32</td>\n",
              "      <td>1</td>\n",
              "      <td>0</td>\n",
              "      <td>0</td>\n",
              "      <td>0</td>\n",
              "      <td>0</td>\n",
              "      <td>0</td>\n",
              "      <td>0</td>\n",
              "      <td>0</td>\n",
              "      <td>0</td>\n",
              "      <td>0</td>\n",
              "    </tr>\n",
              "  </tbody>\n",
              "</table>\n",
              "</div>"
            ],
            "text/plain": [
              "   Pregnancies  Glucose  ...  NewGlucose_Normal  NewGlucose_Prediabetes\n",
              "0            6    148.0  ...                  0                       0\n",
              "1            1     85.0  ...                  1                       0\n",
              "2            8    183.0  ...                  0                       0\n",
              "\n",
              "[3 rows x 18 columns]"
            ]
          },
          "metadata": {},
          "execution_count": 7
        }
      ]
    },
    {
      "cell_type": "markdown",
      "metadata": {
        "id": "Ufihw6sjXwxV"
      },
      "source": [
        "### **DATA SPLITTING**"
      ]
    },
    {
      "cell_type": "code",
      "metadata": {
        "id": "Hixuxqq1S3Xh"
      },
      "source": [
        "Features_Columns = ['Pregnancies','Glucose','BloodPressure','SkinThickness','Insulin','BMI','DiabetesPedigreeFunction','Age','NewBMI_Obesity 1','NewBMI_Obesity 2', 'NewBMI_Obesity 3', 'NewBMI_Overweight','NewBMI_Underweight',\n",
        "                     'NewInsulinScore_Normal','NewGlucose_Low','NewGlucose_Normal', 'NewGlucose_Prediabetes']\n",
        "#Features_Columns = ['Pregnancies','Glucose','Insulin','BMI','DiabetesPedigreeFunction','Age','BMI_Lable','Insulin_Lable','Glucose_Lable']\n",
        "X = df1[Features_Columns]  # INDEPENDENT VARIABLES\n",
        "y = df1[\"Outcome\"]         # DEPENDENT VARIABLE\n",
        "X_train, X_test, y_train, y_test = train_test_split(X, y, test_size=0.30, random_state=1)\n",
        "\n"
      ],
      "execution_count": 8,
      "outputs": []
    },
    {
      "cell_type": "markdown",
      "metadata": {
        "id": "5zjkUgL9X13k"
      },
      "source": [
        "### **LOGISTIC REGRESSION**"
      ]
    },
    {
      "cell_type": "code",
      "metadata": {
        "colab": {
          "base_uri": "https://localhost:8080/"
        },
        "id": "_5TNedE4TF0I",
        "outputId": "a690925a-62ae-4c1c-8647-098e3a1ef634"
      },
      "source": [
        "Logmodel = LogisticRegression()\n",
        "Logmodel.fit(X_train, y_train)\n",
        "y_prediction = Logmodel.predict(X_test)\n",
        "\n",
        "\n",
        "\n",
        "accuracy1_LR = Logmodel.score(X_train, y_train)\n",
        "print(\"Accuracy of train data = \", accuracy1_LR * 100, \"%\")\n",
        "accuracy2_LR = Logmodel.score(X_test, y_test)\n",
        "print(\"Accuracy of test data = \", accuracy2_LR * 100, \"%\")"
      ],
      "execution_count": 9,
      "outputs": [
        {
          "output_type": "stream",
          "name": "stdout",
          "text": [
            "Accuracy of train data =  83.79888268156425 %\n",
            "Accuracy of test data =  85.28138528138528 %\n"
          ]
        }
      ]
    },
    {
      "cell_type": "code",
      "metadata": {
        "colab": {
          "base_uri": "https://localhost:8080/"
        },
        "id": "gWTXk9HTTIcw",
        "outputId": "3ff76f4c-780a-4f5f-f46b-bfce65f27ce6"
      },
      "source": [
        "#cv = RepeatedStratifiedKFold(n_splits=10, n_repeats=3, random_state=1)\n",
        "param_grid_LR = {\n",
        "    'solver' : ['newton-cg', 'lbfgs', 'liblinear','sag','saga'],\n",
        "    'penalty' : ['l1', 'l2', 'elasticnet'],\n",
        "    'C' : [100, 10, 1.0, 0.1, 0.01]\n",
        "}\n",
        "grid_LR = GridSearchCV(LogisticRegression(),param_grid_LR, scoring='accuracy', n_jobs=-1, cv=5).fit(X_train,y_train)\n",
        "print('Best Score: %s' % grid_LR.best_score_)\n",
        "print('Best Hyperparameters: %s' % grid_LR.best_params_)\n",
        "\n"
      ],
      "execution_count": 10,
      "outputs": [
        {
          "output_type": "stream",
          "name": "stdout",
          "text": [
            "Best Score: 0.841883004499827\n",
            "Best Hyperparameters: {'C': 100, 'penalty': 'l1', 'solver': 'liblinear'}\n"
          ]
        }
      ]
    },
    {
      "cell_type": "code",
      "metadata": {
        "colab": {
          "base_uri": "https://localhost:8080/"
        },
        "id": "9vpds8DgTLvt",
        "outputId": "222e0417-8f71-49ef-f9f2-88650e4d3bd4"
      },
      "source": [
        "Tuned_LR_model = LogisticRegression(**grid_LR.best_params_).fit(X_train, y_train)\n",
        "Tuned_LR_y_prediction = Tuned_LR_model.predict(X_test)\n",
        "\n",
        "\n",
        "HP_accuracy1_LR = Tuned_LR_model.score(X_train, y_train)\n",
        "print(\"Accuracy of train data = \", HP_accuracy1_LR * 100, \"%\")\n",
        "HP_accuracy2_LR = Tuned_LR_model.score(X_test, y_test)\n",
        "print(\"Accuracy of test data = \", HP_accuracy2_LR * 100, \"%\")\n"
      ],
      "execution_count": 11,
      "outputs": [
        {
          "output_type": "stream",
          "name": "stdout",
          "text": [
            "Accuracy of train data =  85.84729981378027 %\n",
            "Accuracy of test data =  86.14718614718615 %\n"
          ]
        }
      ]
    },
    {
      "cell_type": "markdown",
      "metadata": {
        "id": "SLgHh8cO2CyM"
      },
      "source": [
        "### **SVM**"
      ]
    },
    {
      "cell_type": "code",
      "metadata": {
        "colab": {
          "base_uri": "https://localhost:8080/"
        },
        "id": "sRRUl2WyTeg6",
        "outputId": "84534ea5-4c7c-43a1-b5ce-46c34e143264"
      },
      "source": [
        "\n",
        "SvcModel = SVC()\n",
        "SvcModel.fit(X_train, y_train)\n",
        "y_prediction_SVM = SvcModel.predict(X_test)\n",
        "\n",
        "accuracy1_SVM = SvcModel.score(X_train, y_train)\n",
        "print(\"Accuracy of train data = \", accuracy1_SVM * 100, \"%\")\n",
        "accuracy2_SVM = SvcModel.score(X_test, y_test)\n",
        "print(\"Accuracy of test data = \", accuracy2_SVM * 100, \"%\")\n",
        "\n",
        "#from sklearn.metrics import classification_report, confusion_matrix\n",
        "#print(classification_report(y_test, y_prediction_SVM))"
      ],
      "execution_count": 12,
      "outputs": [
        {
          "output_type": "stream",
          "name": "stdout",
          "text": [
            "Accuracy of train data =  85.6610800744879 %\n",
            "Accuracy of test data =  81.38528138528139 %\n"
          ]
        }
      ]
    },
    {
      "cell_type": "code",
      "metadata": {
        "colab": {
          "base_uri": "https://localhost:8080/"
        },
        "id": "oGK-xZ6WThxS",
        "outputId": "11944cd1-72b6-44e7-96e8-59d2125a50ea"
      },
      "source": [
        "param_grid_SVM = {'C': [0.01,0.1, 1, 10, 100, 1000],\n",
        "              'gamma': [1, 0.1, 0.01, 0.001, 0.0001],\n",
        "              'kernel': ['rbf','sigmoid']}\n",
        "grid_SVM = GridSearchCV(SVC(), param_grid_SVM, refit = True,return_train_score=True, n_jobs=-1,cv=5).fit(X_train, y_train)\n",
        "\n",
        "# print best parameter after tuning\n",
        "print('Best Score: %s' % grid_SVM.best_score_)\n",
        "print(\"BEST PARAMETER:\",grid_SVM.best_params_) \n",
        "# print how our model looks after hyper-parameter tuning\n",
        "#print(grid.best_estimator_)\n"
      ],
      "execution_count": 13,
      "outputs": [
        {
          "output_type": "stream",
          "name": "stdout",
          "text": [
            "Best Score: 0.8585496711664936\n",
            "BEST PARAMETER: {'C': 1, 'gamma': 0.0001, 'kernel': 'rbf'}\n"
          ]
        }
      ]
    },
    {
      "cell_type": "code",
      "metadata": {
        "colab": {
          "base_uri": "https://localhost:8080/"
        },
        "id": "gsGzd3P6TklL",
        "outputId": "e7f0862a-6d62-43cb-9c8b-d3dac07b45a3"
      },
      "source": [
        "Tuned_SVM_model = SVC(**grid_SVM.best_params_).fit(X_train, y_train)\n",
        "Tuned_SVM_y_prediction= Tuned_SVM_model.predict(X_test)\n",
        "\n",
        "HP_accuracy1_SVM = Tuned_SVM_model.score(X_train, y_train)\n",
        "print(\"Accuracy of train data = \", HP_accuracy1_SVM * 100, \"%\")\n",
        "HP_accuracy2_SVM = Tuned_SVM_model.score(X_test, y_test)\n",
        "print(\"Accuracy of test data = \", HP_accuracy2_SVM * 100, \"%\")\n",
        "#print (\"Accuracy : \", accuracy_score(y_test, Tuned_SVM_y_prediction)*100,\"%\")\n",
        "\n",
        "#from sklearn.metrics import classification_report, confusion_matrix\n",
        "#print(classification_report(y_test, HP_y_prediction_SVC))"
      ],
      "execution_count": 14,
      "outputs": [
        {
          "output_type": "stream",
          "name": "stdout",
          "text": [
            "Accuracy of train data =  87.33705772811918 %\n",
            "Accuracy of test data =  82.25108225108225 %\n"
          ]
        }
      ]
    },
    {
      "cell_type": "markdown",
      "metadata": {
        "id": "I7aCpU8YJZ_2"
      },
      "source": [
        "### **DECISION TREE**"
      ]
    },
    {
      "cell_type": "code",
      "metadata": {
        "colab": {
          "base_uri": "https://localhost:8080/"
        },
        "id": "kCkDxCkQ2GeR",
        "outputId": "eaa9fbcb-d4de-4f36-b2e8-8b6537b500c7"
      },
      "source": [
        "decision_tree = DecisionTreeClassifier()\n",
        "decision_tree.fit(X_train , y_train)\n",
        "y_pred_decision_tree = decision_tree.predict(X_test)\n",
        "\n",
        "\n",
        "accuracy1_DT = decision_tree.score(X_train, y_train)\n",
        "print(\"Accuracy of train data = \", accuracy1_DT * 100, \"%\")\n",
        "accuracy2_DT = decision_tree.score(X_test, y_test)\n",
        "print(\"Accuracy of test data = \", accuracy2_DT * 100, \"%\")"
      ],
      "execution_count": 15,
      "outputs": [
        {
          "output_type": "stream",
          "name": "stdout",
          "text": [
            "Accuracy of train data =  100.0 %\n",
            "Accuracy of test data =  83.98268398268398 %\n"
          ]
        }
      ]
    },
    {
      "cell_type": "code",
      "metadata": {
        "colab": {
          "base_uri": "https://localhost:8080/"
        },
        "id": "c2-DaUHT2GkR",
        "outputId": "13942f43-b723-406f-dd03-2b16165e7d64"
      },
      "source": [
        "param_grid_DT = {'criterion': [\"gini\", \"entropy\"], \n",
        "              'splitter': [\"best\", \"random\"], \n",
        "              'max_depth': [1, 2, 3], \n",
        "              'min_samples_split': [2, 3, 4]}\n",
        "grid_DT = GridSearchCV(DecisionTreeClassifier(), param_grid_DT, cv=5, n_jobs=-1,scoring = 'accuracy' ).fit(X_train,y_train)\n",
        "\n",
        "\n",
        "print (\"Best score is:\",grid_DT.best_score_) \n",
        "print (\"BEST PARAMETERS:\",grid_DT.best_params_)\n",
        "\n",
        "\n",
        "#best_model = grid_DecisionTree.best_estimator_\n",
        "#y_pred = best_model.predict(X_test)\n",
        "#The accuracy of the test set:\n",
        "#print (\"The test set accuracy is:\",accuracy_score(y_test, y_pred))"
      ],
      "execution_count": 16,
      "outputs": [
        {
          "output_type": "stream",
          "name": "stdout",
          "text": [
            "Best score is: 0.8679473866389754\n",
            "BEST PARAMETERS: {'criterion': 'entropy', 'max_depth': 3, 'min_samples_split': 2, 'splitter': 'best'}\n"
          ]
        }
      ]
    },
    {
      "cell_type": "code",
      "metadata": {
        "colab": {
          "base_uri": "https://localhost:8080/"
        },
        "id": "3-cwcVE_Boob",
        "outputId": "022d2ab5-26b3-4039-e471-625b0a9091d1"
      },
      "source": [
        "Tuned_DT_model = DecisionTreeClassifier(**grid_DT.best_params_).fit(X_train,y_train)\n",
        "Tuned_DT_y_prediction= Tuned_DT_model.predict(X_test)\n",
        "\n",
        "HP_accuracy1_DT = Tuned_DT_model.score(X_train, y_train)\n",
        "print(\"Accuracy of train data = \", HP_accuracy1_DT * 100, \"%\")\n",
        "HP_accuracy2_DT = Tuned_DT_model.score(X_test, y_test)\n",
        "print(\"Accuracy of test data = \", HP_accuracy2_DT * 100, \"%\")\n",
        "\n",
        "#print (\"Accuracy : \", accuracy_score(y_test, Tuned_DT_y_prediction)*100,\"%\")"
      ],
      "execution_count": 17,
      "outputs": [
        {
          "output_type": "stream",
          "name": "stdout",
          "text": [
            "Accuracy of train data =  88.8268156424581 %\n",
            "Accuracy of test data =  86.14718614718615 %\n"
          ]
        }
      ]
    },
    {
      "cell_type": "markdown",
      "metadata": {
        "id": "ILVM8sKhCsIu"
      },
      "source": [
        "### **NAIVE BAYES**"
      ]
    },
    {
      "cell_type": "code",
      "metadata": {
        "colab": {
          "base_uri": "https://localhost:8080/"
        },
        "id": "ivmGqGd2Cq5e",
        "outputId": "4a5f0857-50cd-4782-c2ec-271db2c3d625"
      },
      "source": [
        "naive_bayes = GaussianNB()\n",
        "naive_bayes.fit(X_train , y_train)\n",
        "y_pred_naive_bayes = naive_bayes.predict(X_test)\n",
        "\n",
        "accuracy1_NB = naive_bayes.score(X_train, y_train)\n",
        "print(\"Accuracy of train data = \", accuracy1_NB * 100, \"%\")\n",
        "accuracy2_NB = naive_bayes.score(X_test, y_test)\n",
        "print(\"Accuracy of test data = \", accuracy2_NB * 100, \"%\")"
      ],
      "execution_count": 18,
      "outputs": [
        {
          "output_type": "stream",
          "name": "stdout",
          "text": [
            "Accuracy of train data =  57.16945996275605 %\n",
            "Accuracy of test data =  62.77056277056276 %\n"
          ]
        }
      ]
    },
    {
      "cell_type": "code",
      "metadata": {
        "colab": {
          "base_uri": "https://localhost:8080/"
        },
        "id": "cIF4cwQpLhI1",
        "outputId": "3d19577a-7778-4547-b965-0089c77f380b"
      },
      "source": [
        "np.logspace(0,-9, num=10)"
      ],
      "execution_count": 19,
      "outputs": [
        {
          "output_type": "execute_result",
          "data": {
            "text/plain": [
              "array([1.e+00, 1.e-01, 1.e-02, 1.e-03, 1.e-04, 1.e-05, 1.e-06, 1.e-07,\n",
              "       1.e-08, 1.e-09])"
            ]
          },
          "metadata": {},
          "execution_count": 19
        }
      ]
    },
    {
      "cell_type": "code",
      "metadata": {
        "colab": {
          "base_uri": "https://localhost:8080/"
        },
        "id": "VgU5L1DwLop4",
        "outputId": "9e7bc36c-bf04-4ac0-9c1c-a2ee2643286a"
      },
      "source": [
        "from sklearn.preprocessing import PowerTransformer\n",
        "params_NB = {'var_smoothing': np.logspace(0,-9, num=100)}\n",
        "grid_NB = GridSearchCV(estimator=GaussianNB(), param_grid=params_NB, cv=5, scoring='accuracy')\n",
        "Data_transformed = PowerTransformer().fit_transform(X_test)\n",
        "grid_NB.fit(Data_transformed, y_test)\n",
        "\n",
        "print (\"Best score is:\",grid_NB.best_score_) \n",
        "print (\"BEST PARAMETERS:\",grid_NB.best_params_)"
      ],
      "execution_count": 20,
      "outputs": [
        {
          "output_type": "stream",
          "name": "stdout",
          "text": [
            "Best score is: 0.8139685476410732\n",
            "BEST PARAMETERS: {'var_smoothing': 0.657933224657568}\n"
          ]
        }
      ]
    },
    {
      "cell_type": "code",
      "metadata": {
        "colab": {
          "base_uri": "https://localhost:8080/"
        },
        "id": "UZzEAL1YNtrz",
        "outputId": "8e837069-c034-4534-bfbf-4f931b0c8e14"
      },
      "source": [
        "predict_test = grid_NB.predict(Data_transformed)\n",
        "\n",
        "# Accuracy Score on test dataset\n",
        "accuracy_test = accuracy_score(y_test,predict_test)\n",
        "print('accuracy_score on test dataset : ', accuracy_test)"
      ],
      "execution_count": 21,
      "outputs": [
        {
          "output_type": "stream",
          "name": "stdout",
          "text": [
            "accuracy_score on test dataset :  0.8181818181818182\n"
          ]
        }
      ]
    },
    {
      "cell_type": "code",
      "metadata": {
        "colab": {
          "base_uri": "https://localhost:8080/"
        },
        "id": "3rO7vGPPL-5U",
        "outputId": "215a2ec7-dec9-442c-a6e2-3318ff4aec54"
      },
      "source": [
        "Tuned_NB_model = GaussianNB(**grid_NB.best_params_).fit(X_train,y_train)\n",
        "Tuned_NB_y_prediction= Tuned_NB_model.predict(Data_transformed)\n",
        "\n",
        "HP_accuracy1_NB = Tuned_NB_model.score(X_train, y_train)\n",
        "print(\"Accuracy of train data = \", HP_accuracy1_NB * 100, \"%\")\n",
        "HP_accuracy2_NB = Tuned_NB_model.score(Data_transformed, y_test)\n",
        "print(\"Accuracy of test data = \", HP_accuracy2_NB * 100, \"%\")\n",
        "\n",
        "#print (\"Accuracy : \", accuracy_score(y_test, Tuned_NB_y_prediction)*100,\"%\")"
      ],
      "execution_count": 33,
      "outputs": [
        {
          "output_type": "stream",
          "name": "stdout",
          "text": [
            "Accuracy of train data =  67.0391061452514 %\n",
            "Accuracy of test data =  63.20346320346321 %\n"
          ]
        }
      ]
    },
    {
      "cell_type": "markdown",
      "metadata": {
        "id": "FRXFR5QnU5E0"
      },
      "source": [
        "### **RANDOM FOREST**"
      ]
    },
    {
      "cell_type": "code",
      "metadata": {
        "colab": {
          "base_uri": "https://localhost:8080/"
        },
        "id": "Wo-vPN-xL-_l",
        "outputId": "b7de99b8-4861-49b5-dbce-a530229a313d"
      },
      "source": [
        "Random_Forest = RandomForestClassifier()\n",
        "Random_Forest.fit(X_train , y_train)\n",
        "y_pred_Random_Forest = Random_Forest.predict(X_test)\n",
        "\n",
        "\n",
        "accuracy1_RF = Random_Forest.score(X_train, y_train)\n",
        "print(\"Accuracy of train data = \", accuracy1_RF * 100, \"%\")\n",
        "accuracy2_RF = Random_Forest.score(X_test, y_test)\n",
        "print(\"Accuracy of test data = \", accuracy2_RF * 100, \"%\")"
      ],
      "execution_count": 23,
      "outputs": [
        {
          "output_type": "stream",
          "name": "stdout",
          "text": [
            "Accuracy of train data =  100.0 %\n",
            "Accuracy of test data =  88.74458874458875 %\n"
          ]
        }
      ]
    },
    {
      "cell_type": "code",
      "metadata": {
        "colab": {
          "base_uri": "https://localhost:8080/"
        },
        "id": "MmW9-1ZHOBEp",
        "outputId": "c31f46fc-34b4-4ae2-f660-9897d4a69c74"
      },
      "source": [
        "param_grid_RF = {'bootstrap': [True],\n",
        "    'max_depth': [80, 90, 100,110],\n",
        "    'criterion' : ('gini','entropy'),\n",
        "    'max_features': [2, 3],\n",
        "    #'min_samples_leaf': [3, 4, 5],\n",
        "    #'min_samples_split': [8, 10, 12],\n",
        "    'n_estimators': [ 200, 300, 1000]}\n",
        "grid_RF = GridSearchCV(RandomForestClassifier(), param_grid_RF, cv=5, n_jobs=-1,scoring = 'accuracy' ).fit(X_train,y_train)\n",
        "\n",
        "\n",
        "print (\"Best score is:\",grid_RF.best_score_) \n",
        "print (\"BEST PARAMETERS:\",grid_RF.best_params_)\n",
        "\n",
        "\n",
        "#best_model = grid_DecisionTree.best_estimator_\n",
        "#y_pred = best_model.predict(X_test)\n",
        "#The accuracy of the test set:\n",
        "#print (\"The test set accuracy is:\",accuracy_score(y_test, y_pred))"
      ],
      "execution_count": 24,
      "outputs": [
        {
          "output_type": "stream",
          "name": "stdout",
          "text": [
            "Best score is: 0.8791104188300449\n",
            "BEST PARAMETERS: {'bootstrap': True, 'criterion': 'entropy', 'max_depth': 90, 'max_features': 2, 'n_estimators': 200}\n"
          ]
        }
      ]
    },
    {
      "cell_type": "code",
      "metadata": {
        "colab": {
          "base_uri": "https://localhost:8080/"
        },
        "id": "WYpu8AhMX3up",
        "outputId": "09e97e7f-1cc7-4df3-9925-a3e5e7cb8e23"
      },
      "source": [
        "Tuned_RF_model = RandomForestClassifier(**grid_RF.best_params_).fit(X_train,y_train)\n",
        "Tuned_RF_y_prediction= Tuned_RF_model.predict(X_test)\n",
        "\n",
        "HP_accuracy1_RF = Tuned_RF_model.score(X_train, y_train)\n",
        "print(\"Accuracy of train data = \", HP_accuracy1_RF * 100, \"%\")\n",
        "HP_accuracy2_RF = Tuned_RF_model.score(X_test, y_test)\n",
        "print(\"Accuracy of test data = \", HP_accuracy2_RF * 100, \"%\")\n",
        "\n",
        "#print (\"Accuracy : \", accuracy_score(y_test, Tuned_RF_y_prediction)*100,\"%\")"
      ],
      "execution_count": 25,
      "outputs": [
        {
          "output_type": "stream",
          "name": "stdout",
          "text": [
            "Accuracy of train data =  100.0 %\n",
            "Accuracy of test data =  87.01298701298701 %\n"
          ]
        }
      ]
    },
    {
      "cell_type": "markdown",
      "metadata": {
        "id": "0F43vs8Yj3Lm"
      },
      "source": [
        "### **KNN**"
      ]
    },
    {
      "cell_type": "code",
      "metadata": {
        "colab": {
          "base_uri": "https://localhost:8080/"
        },
        "id": "02Tg0C5Zj7pZ",
        "outputId": "e1f9ea11-bb30-4e80-cd18-f8a6becf0467"
      },
      "source": [
        "KNN_model=KNeighborsClassifier()\n",
        "KNN_model.fit(X_train , y_train)\n",
        "y_pred_KNN=KNN_model.predict(X_test)\n",
        "\n",
        "accuracy1_KNN = KNN_model.score(X_train, y_train)\n",
        "print(\"Accuracy of train data = \", accuracy1_KNN * 100, \"%\")\n",
        "accuracy2_KNN = KNN_model.score(X_test, y_test)\n",
        "print(\"Accuracy of test data = \", accuracy2_KNN * 100, \"%\")"
      ],
      "execution_count": 26,
      "outputs": [
        {
          "output_type": "stream",
          "name": "stdout",
          "text": [
            "Accuracy of train data =  88.64059590316573 %\n",
            "Accuracy of test data =  85.28138528138528 %\n"
          ]
        }
      ]
    },
    {
      "cell_type": "code",
      "metadata": {
        "colab": {
          "base_uri": "https://localhost:8080/"
        },
        "id": "U7napzYRj7zN",
        "outputId": "b9515aff-343c-491e-d7e2-4a6483bfa789"
      },
      "source": [
        "k_range = list(range(1, 31))\n",
        "param_grid_KNN = dict(n_neighbors=k_range)\n",
        "\n",
        "grid_KNN = GridSearchCV(KNeighborsClassifier(), param_grid_KNN, cv=5, n_jobs=-1,scoring = 'accuracy' ).fit(X_train,y_train)\n",
        "\n",
        "\n",
        "print (\"Best score is:\",grid_KNN.best_score_) \n",
        "print (\"BEST PARAMETERS:\",grid_KNN.best_params_)\n"
      ],
      "execution_count": 27,
      "outputs": [
        {
          "output_type": "stream",
          "name": "stdout",
          "text": [
            "Best score is: 0.8697473174108689\n",
            "BEST PARAMETERS: {'n_neighbors': 2}\n"
          ]
        }
      ]
    },
    {
      "cell_type": "code",
      "metadata": {
        "colab": {
          "base_uri": "https://localhost:8080/"
        },
        "id": "_zamTd5Tj7-b",
        "outputId": "4f3a9d94-1e97-4bf1-ae49-b6a1fe2a1de0"
      },
      "source": [
        "Tuned_KNN_model = KNeighborsClassifier(**grid_KNN.best_params_).fit(X_train,y_train)\n",
        "Tuned_KNN_y_prediction= Tuned_KNN_model.predict(X_test)\n",
        "\n",
        "HP_accuracy1_KNN = Tuned_KNN_model.score(X_train, y_train)\n",
        "print(\"Accuracy of train data = \", HP_accuracy1_KNN * 100, \"%\")\n",
        "HP_accuracy2_KNN = Tuned_KNN_model.score(X_test, y_test)\n",
        "print(\"Accuracy of test data = \", HP_accuracy2_KNN * 100, \"%\")\n",
        "\n",
        "#print (\"Accuracy : \", accuracy_score(y_test, Tuned_KNN_y_prediction)*100,\"%\")"
      ],
      "execution_count": 28,
      "outputs": [
        {
          "output_type": "stream",
          "name": "stdout",
          "text": [
            "Accuracy of train data =  92.17877094972067 %\n",
            "Accuracy of test data =  86.14718614718615 %\n"
          ]
        }
      ]
    }
  ]
}